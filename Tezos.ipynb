{
 "cells": [
  {
   "cell_type": "code",
   "execution_count": 1,
   "metadata": {},
   "outputs": [],
   "source": [
    "import pandas as pd\n",
    "import numpy as np\n",
    "import matplotlib.pyplot as plt\n",
    "import requests\n",
    "import json"
   ]
  },
  {
   "cell_type": "code",
   "execution_count": 2,
   "metadata": {},
   "outputs": [],
   "source": [
    "# function courtesy of CryptoDataDownload.com\n",
    "def fetch_daily_data(symbol):\n",
    "    pair_split = symbol.split('/')  # symbol must be in format XXX/XXX ie. BTC/EUR\n",
    "    symbol = pair_split[0] + '-' + pair_split[1]\n",
    "    url = f'https://api.pro.coinbase.com/products/{symbol}/candles?granularity=86400'\n",
    "    response = requests.get(url)\n",
    "    if response.status_code == 200:  # check to make sure the response from server is good\n",
    "        data = pd.DataFrame(json.loads(response.text), columns=['unix', 'low', 'high', 'open', 'close', 'volume'])\n",
    "        data['date'] = pd.to_datetime(data['unix'], unit='s')  # convert to a readable date\n",
    "        data['vol_fiat'] = data['volume'] * data['close']      # multiply the BTC volume by closing price to approximate fiat volume\n",
    "                            \n",
    "        # if we failed to get any data, print an error...otherwise write the file\n",
    "        if data is None:\n",
    "            print(\"Did not return any data from Coinbase for this symbol\")\n",
    "        else:\n",
    "            data.to_csv(f'cb_{pair_split[0] + pair_split[1]}_daily.csv', index=False)\n",
    "    else:\n",
    "        print(\"Did not receieve OK response from Coinbase API\")"
   ]
  },
  {
   "cell_type": "markdown",
   "metadata": {},
   "source": [
    "## Pulling Tezos\n",
    "Trying Tezos next."
   ]
  },
  {
   "cell_type": "code",
   "execution_count": 3,
   "metadata": {},
   "outputs": [],
   "source": [
    "fetch_daily_data('XTZ/USD')"
   ]
  },
  {
   "cell_type": "code",
   "execution_count": 4,
   "metadata": {},
   "outputs": [],
   "source": [
    "df = pd.read_csv('cb_XTZUSD_daily.csv', index_col='date', parse_dates=[0])"
   ]
  },
  {
   "cell_type": "code",
   "execution_count": 5,
   "metadata": {},
   "outputs": [
    {
     "data": {
      "text/html": [
       "<div>\n",
       "<style scoped>\n",
       "    .dataframe tbody tr th:only-of-type {\n",
       "        vertical-align: middle;\n",
       "    }\n",
       "\n",
       "    .dataframe tbody tr th {\n",
       "        vertical-align: top;\n",
       "    }\n",
       "\n",
       "    .dataframe thead th {\n",
       "        text-align: right;\n",
       "    }\n",
       "</style>\n",
       "<table border=\"1\" class=\"dataframe\">\n",
       "  <thead>\n",
       "    <tr style=\"text-align: right;\">\n",
       "      <th></th>\n",
       "      <th>unix</th>\n",
       "      <th>low</th>\n",
       "      <th>high</th>\n",
       "      <th>open</th>\n",
       "      <th>close</th>\n",
       "      <th>volume</th>\n",
       "      <th>vol_fiat</th>\n",
       "    </tr>\n",
       "    <tr>\n",
       "      <th>date</th>\n",
       "      <th></th>\n",
       "      <th></th>\n",
       "      <th></th>\n",
       "      <th></th>\n",
       "      <th></th>\n",
       "      <th></th>\n",
       "      <th></th>\n",
       "    </tr>\n",
       "  </thead>\n",
       "  <tbody>\n",
       "    <tr>\n",
       "      <th>2021-01-20</th>\n",
       "      <td>1611100800</td>\n",
       "      <td>2.6444</td>\n",
       "      <td>2.9496</td>\n",
       "      <td>2.8723</td>\n",
       "      <td>2.8772</td>\n",
       "      <td>4913515.79</td>\n",
       "      <td>1.413717e+07</td>\n",
       "    </tr>\n",
       "    <tr>\n",
       "      <th>2021-01-19</th>\n",
       "      <td>1611014400</td>\n",
       "      <td>2.8724</td>\n",
       "      <td>3.2200</td>\n",
       "      <td>3.0346</td>\n",
       "      <td>2.8731</td>\n",
       "      <td>6922518.64</td>\n",
       "      <td>1.988909e+07</td>\n",
       "    </tr>\n",
       "    <tr>\n",
       "      <th>2021-01-18</th>\n",
       "      <td>1610928000</td>\n",
       "      <td>2.8450</td>\n",
       "      <td>3.1175</td>\n",
       "      <td>2.9726</td>\n",
       "      <td>3.0342</td>\n",
       "      <td>5120896.85</td>\n",
       "      <td>1.553783e+07</td>\n",
       "    </tr>\n",
       "    <tr>\n",
       "      <th>2021-01-17</th>\n",
       "      <td>1610841600</td>\n",
       "      <td>2.6851</td>\n",
       "      <td>3.1136</td>\n",
       "      <td>2.8530</td>\n",
       "      <td>2.9738</td>\n",
       "      <td>6827360.01</td>\n",
       "      <td>2.030320e+07</td>\n",
       "    </tr>\n",
       "    <tr>\n",
       "      <th>2021-01-16</th>\n",
       "      <td>1610755200</td>\n",
       "      <td>2.6904</td>\n",
       "      <td>3.1882</td>\n",
       "      <td>2.7064</td>\n",
       "      <td>2.8540</td>\n",
       "      <td>13772368.03</td>\n",
       "      <td>3.930634e+07</td>\n",
       "    </tr>\n",
       "  </tbody>\n",
       "</table>\n",
       "</div>"
      ],
      "text/plain": [
       "                  unix     low    high    open   close       volume  \\\n",
       "date                                                                  \n",
       "2021-01-20  1611100800  2.6444  2.9496  2.8723  2.8772   4913515.79   \n",
       "2021-01-19  1611014400  2.8724  3.2200  3.0346  2.8731   6922518.64   \n",
       "2021-01-18  1610928000  2.8450  3.1175  2.9726  3.0342   5120896.85   \n",
       "2021-01-17  1610841600  2.6851  3.1136  2.8530  2.9738   6827360.01   \n",
       "2021-01-16  1610755200  2.6904  3.1882  2.7064  2.8540  13772368.03   \n",
       "\n",
       "                vol_fiat  \n",
       "date                      \n",
       "2021-01-20  1.413717e+07  \n",
       "2021-01-19  1.988909e+07  \n",
       "2021-01-18  1.553783e+07  \n",
       "2021-01-17  2.030320e+07  \n",
       "2021-01-16  3.930634e+07  "
      ]
     },
     "execution_count": 5,
     "metadata": {},
     "output_type": "execute_result"
    }
   ],
   "source": [
    "df.head()"
   ]
  },
  {
   "cell_type": "code",
   "execution_count": 6,
   "metadata": {},
   "outputs": [],
   "source": [
    "df.drop('unix', axis=1, inplace=True)"
   ]
  },
  {
   "cell_type": "code",
   "execution_count": 7,
   "metadata": {},
   "outputs": [
    {
     "name": "stdout",
     "output_type": "stream",
     "text": [
      "<class 'pandas.core.frame.DataFrame'>\n",
      "Index: 300 entries, 2021-01-20 to 2020-03-27\n",
      "Data columns (total 6 columns):\n",
      " #   Column    Non-Null Count  Dtype  \n",
      "---  ------    --------------  -----  \n",
      " 0   low       300 non-null    float64\n",
      " 1   high      300 non-null    float64\n",
      " 2   open      300 non-null    float64\n",
      " 3   close     300 non-null    float64\n",
      " 4   volume    300 non-null    float64\n",
      " 5   vol_fiat  300 non-null    float64\n",
      "dtypes: float64(6)\n",
      "memory usage: 16.4+ KB\n"
     ]
    }
   ],
   "source": [
    "df.info()"
   ]
  },
  {
   "cell_type": "code",
   "execution_count": 8,
   "metadata": {},
   "outputs": [],
   "source": [
    "df.index = pd.to_datetime(df.index)"
   ]
  },
  {
   "cell_type": "code",
   "execution_count": 9,
   "metadata": {},
   "outputs": [],
   "source": [
    "df.sort_values(by='date', axis=0, inplace=True)"
   ]
  },
  {
   "cell_type": "code",
   "execution_count": 10,
   "metadata": {},
   "outputs": [
    {
     "data": {
      "text/html": [
       "<div>\n",
       "<style scoped>\n",
       "    .dataframe tbody tr th:only-of-type {\n",
       "        vertical-align: middle;\n",
       "    }\n",
       "\n",
       "    .dataframe tbody tr th {\n",
       "        vertical-align: top;\n",
       "    }\n",
       "\n",
       "    .dataframe thead th {\n",
       "        text-align: right;\n",
       "    }\n",
       "</style>\n",
       "<table border=\"1\" class=\"dataframe\">\n",
       "  <thead>\n",
       "    <tr style=\"text-align: right;\">\n",
       "      <th></th>\n",
       "      <th>low</th>\n",
       "      <th>high</th>\n",
       "      <th>open</th>\n",
       "      <th>close</th>\n",
       "      <th>volume</th>\n",
       "      <th>vol_fiat</th>\n",
       "    </tr>\n",
       "    <tr>\n",
       "      <th>date</th>\n",
       "      <th></th>\n",
       "      <th></th>\n",
       "      <th></th>\n",
       "      <th></th>\n",
       "      <th></th>\n",
       "      <th></th>\n",
       "    </tr>\n",
       "  </thead>\n",
       "  <tbody>\n",
       "    <tr>\n",
       "      <th>2020-03-27</th>\n",
       "      <td>1.5713</td>\n",
       "      <td>1.7897</td>\n",
       "      <td>1.7645</td>\n",
       "      <td>1.5897</td>\n",
       "      <td>3969087.96</td>\n",
       "      <td>6.309659e+06</td>\n",
       "    </tr>\n",
       "    <tr>\n",
       "      <th>2020-03-28</th>\n",
       "      <td>1.5052</td>\n",
       "      <td>1.6226</td>\n",
       "      <td>1.5896</td>\n",
       "      <td>1.5655</td>\n",
       "      <td>3872624.59</td>\n",
       "      <td>6.062594e+06</td>\n",
       "    </tr>\n",
       "    <tr>\n",
       "      <th>2020-03-29</th>\n",
       "      <td>1.4664</td>\n",
       "      <td>1.5804</td>\n",
       "      <td>1.5693</td>\n",
       "      <td>1.4698</td>\n",
       "      <td>2250825.26</td>\n",
       "      <td>3.308263e+06</td>\n",
       "    </tr>\n",
       "    <tr>\n",
       "      <th>2020-03-30</th>\n",
       "      <td>1.4610</td>\n",
       "      <td>1.6650</td>\n",
       "      <td>1.4675</td>\n",
       "      <td>1.6077</td>\n",
       "      <td>2626418.20</td>\n",
       "      <td>4.222493e+06</td>\n",
       "    </tr>\n",
       "    <tr>\n",
       "      <th>2020-03-31</th>\n",
       "      <td>1.5532</td>\n",
       "      <td>1.6424</td>\n",
       "      <td>1.6081</td>\n",
       "      <td>1.6110</td>\n",
       "      <td>1892308.96</td>\n",
       "      <td>3.048510e+06</td>\n",
       "    </tr>\n",
       "  </tbody>\n",
       "</table>\n",
       "</div>"
      ],
      "text/plain": [
       "               low    high    open   close      volume      vol_fiat\n",
       "date                                                                \n",
       "2020-03-27  1.5713  1.7897  1.7645  1.5897  3969087.96  6.309659e+06\n",
       "2020-03-28  1.5052  1.6226  1.5896  1.5655  3872624.59  6.062594e+06\n",
       "2020-03-29  1.4664  1.5804  1.5693  1.4698  2250825.26  3.308263e+06\n",
       "2020-03-30  1.4610  1.6650  1.4675  1.6077  2626418.20  4.222493e+06\n",
       "2020-03-31  1.5532  1.6424  1.6081  1.6110  1892308.96  3.048510e+06"
      ]
     },
     "execution_count": 10,
     "metadata": {},
     "output_type": "execute_result"
    }
   ],
   "source": [
    "df.head()"
   ]
  },
  {
   "cell_type": "markdown",
   "metadata": {},
   "source": [
    "# Feature Engineering\n",
    "Here we are designing our features to better predict the price."
   ]
  },
  {
   "cell_type": "code",
   "execution_count": 11,
   "metadata": {},
   "outputs": [],
   "source": [
    "def make_features(data, max_lag):\n",
    "    data['month'] = data.index.month\n",
    "    data['dayofweek'] = data.index.dayofweek\n",
    "    data['week_low_mean'] = data['low'].shift().rolling(7).mean()\n",
    "    data['week_high_mean'] = data['high'].shift().rolling(7).mean()\n",
    "    data['bi_week_low_mean'] = data['low'].shift().rolling(14).mean()\n",
    "    data['bi_week_high_mean'] = data['high'].shift().rolling(14).mean()\n",
    "    data['month_low_mean'] = data['low'].shift().rolling(28).mean()\n",
    "    data['month_high_mean'] = data['high'].shift().rolling(28).mean()\n",
    "    for lag in range(1, max_lag + 1):\n",
    "        data['high_lag_{}'.format(lag)] = data['high'].shift(lag)\n",
    "    for lag in range(1, max_lag + 1):\n",
    "        data['low_lag_{}'.format(lag)] = data['low'].shift(lag)"
   ]
  },
  {
   "cell_type": "code",
   "execution_count": 12,
   "metadata": {},
   "outputs": [],
   "source": [
    "make_features(df, 14)"
   ]
  },
  {
   "cell_type": "code",
   "execution_count": 13,
   "metadata": {},
   "outputs": [
    {
     "data": {
      "text/html": [
       "<div>\n",
       "<style scoped>\n",
       "    .dataframe tbody tr th:only-of-type {\n",
       "        vertical-align: middle;\n",
       "    }\n",
       "\n",
       "    .dataframe tbody tr th {\n",
       "        vertical-align: top;\n",
       "    }\n",
       "\n",
       "    .dataframe thead th {\n",
       "        text-align: right;\n",
       "    }\n",
       "</style>\n",
       "<table border=\"1\" class=\"dataframe\">\n",
       "  <thead>\n",
       "    <tr style=\"text-align: right;\">\n",
       "      <th></th>\n",
       "      <th>low</th>\n",
       "      <th>high</th>\n",
       "      <th>open</th>\n",
       "      <th>close</th>\n",
       "      <th>volume</th>\n",
       "      <th>vol_fiat</th>\n",
       "      <th>month</th>\n",
       "      <th>dayofweek</th>\n",
       "      <th>week_low_mean</th>\n",
       "      <th>week_high_mean</th>\n",
       "      <th>...</th>\n",
       "      <th>low_lag_5</th>\n",
       "      <th>low_lag_6</th>\n",
       "      <th>low_lag_7</th>\n",
       "      <th>low_lag_8</th>\n",
       "      <th>low_lag_9</th>\n",
       "      <th>low_lag_10</th>\n",
       "      <th>low_lag_11</th>\n",
       "      <th>low_lag_12</th>\n",
       "      <th>low_lag_13</th>\n",
       "      <th>low_lag_14</th>\n",
       "    </tr>\n",
       "    <tr>\n",
       "      <th>date</th>\n",
       "      <th></th>\n",
       "      <th></th>\n",
       "      <th></th>\n",
       "      <th></th>\n",
       "      <th></th>\n",
       "      <th></th>\n",
       "      <th></th>\n",
       "      <th></th>\n",
       "      <th></th>\n",
       "      <th></th>\n",
       "      <th></th>\n",
       "      <th></th>\n",
       "      <th></th>\n",
       "      <th></th>\n",
       "      <th></th>\n",
       "      <th></th>\n",
       "      <th></th>\n",
       "      <th></th>\n",
       "      <th></th>\n",
       "      <th></th>\n",
       "      <th></th>\n",
       "    </tr>\n",
       "  </thead>\n",
       "  <tbody>\n",
       "    <tr>\n",
       "      <th>2021-01-16</th>\n",
       "      <td>2.6904</td>\n",
       "      <td>3.1882</td>\n",
       "      <td>2.7064</td>\n",
       "      <td>2.8540</td>\n",
       "      <td>13772368.03</td>\n",
       "      <td>3.930634e+07</td>\n",
       "      <td>1</td>\n",
       "      <td>5</td>\n",
       "      <td>2.306043</td>\n",
       "      <td>2.700300</td>\n",
       "      <td>...</td>\n",
       "      <td>2.0583</td>\n",
       "      <td>2.3918</td>\n",
       "      <td>2.4180</td>\n",
       "      <td>2.2500</td>\n",
       "      <td>2.4050</td>\n",
       "      <td>2.2972</td>\n",
       "      <td>2.1361</td>\n",
       "      <td>2.0158</td>\n",
       "      <td>1.9538</td>\n",
       "      <td>1.9500</td>\n",
       "    </tr>\n",
       "    <tr>\n",
       "      <th>2021-01-17</th>\n",
       "      <td>2.6851</td>\n",
       "      <td>3.1136</td>\n",
       "      <td>2.8530</td>\n",
       "      <td>2.9738</td>\n",
       "      <td>6827360.01</td>\n",
       "      <td>2.030320e+07</td>\n",
       "      <td>1</td>\n",
       "      <td>6</td>\n",
       "      <td>2.344957</td>\n",
       "      <td>2.770271</td>\n",
       "      <td>...</td>\n",
       "      <td>2.1947</td>\n",
       "      <td>2.0583</td>\n",
       "      <td>2.3918</td>\n",
       "      <td>2.4180</td>\n",
       "      <td>2.2500</td>\n",
       "      <td>2.4050</td>\n",
       "      <td>2.2972</td>\n",
       "      <td>2.1361</td>\n",
       "      <td>2.0158</td>\n",
       "      <td>1.9538</td>\n",
       "    </tr>\n",
       "    <tr>\n",
       "      <th>2021-01-18</th>\n",
       "      <td>2.8450</td>\n",
       "      <td>3.1175</td>\n",
       "      <td>2.9726</td>\n",
       "      <td>3.0342</td>\n",
       "      <td>5120896.85</td>\n",
       "      <td>1.553783e+07</td>\n",
       "      <td>1</td>\n",
       "      <td>0</td>\n",
       "      <td>2.386857</td>\n",
       "      <td>2.793486</td>\n",
       "      <td>...</td>\n",
       "      <td>2.2276</td>\n",
       "      <td>2.1947</td>\n",
       "      <td>2.0583</td>\n",
       "      <td>2.3918</td>\n",
       "      <td>2.4180</td>\n",
       "      <td>2.2500</td>\n",
       "      <td>2.4050</td>\n",
       "      <td>2.2972</td>\n",
       "      <td>2.1361</td>\n",
       "      <td>2.0158</td>\n",
       "    </tr>\n",
       "    <tr>\n",
       "      <th>2021-01-19</th>\n",
       "      <td>2.8724</td>\n",
       "      <td>3.2200</td>\n",
       "      <td>3.0346</td>\n",
       "      <td>2.8731</td>\n",
       "      <td>6922518.64</td>\n",
       "      <td>1.988909e+07</td>\n",
       "      <td>1</td>\n",
       "      <td>1</td>\n",
       "      <td>2.499243</td>\n",
       "      <td>2.843014</td>\n",
       "      <td>...</td>\n",
       "      <td>2.4061</td>\n",
       "      <td>2.2276</td>\n",
       "      <td>2.1947</td>\n",
       "      <td>2.0583</td>\n",
       "      <td>2.3918</td>\n",
       "      <td>2.4180</td>\n",
       "      <td>2.2500</td>\n",
       "      <td>2.4050</td>\n",
       "      <td>2.2972</td>\n",
       "      <td>2.1361</td>\n",
       "    </tr>\n",
       "    <tr>\n",
       "      <th>2021-01-20</th>\n",
       "      <td>2.6444</td>\n",
       "      <td>2.9496</td>\n",
       "      <td>2.8723</td>\n",
       "      <td>2.8772</td>\n",
       "      <td>4913515.79</td>\n",
       "      <td>1.413717e+07</td>\n",
       "      <td>1</td>\n",
       "      <td>2</td>\n",
       "      <td>2.596057</td>\n",
       "      <td>2.952714</td>\n",
       "      <td>...</td>\n",
       "      <td>2.4458</td>\n",
       "      <td>2.4061</td>\n",
       "      <td>2.2276</td>\n",
       "      <td>2.1947</td>\n",
       "      <td>2.0583</td>\n",
       "      <td>2.3918</td>\n",
       "      <td>2.4180</td>\n",
       "      <td>2.2500</td>\n",
       "      <td>2.4050</td>\n",
       "      <td>2.2972</td>\n",
       "    </tr>\n",
       "  </tbody>\n",
       "</table>\n",
       "<p>5 rows × 42 columns</p>\n",
       "</div>"
      ],
      "text/plain": [
       "               low    high    open   close       volume      vol_fiat  month  \\\n",
       "date                                                                           \n",
       "2021-01-16  2.6904  3.1882  2.7064  2.8540  13772368.03  3.930634e+07      1   \n",
       "2021-01-17  2.6851  3.1136  2.8530  2.9738   6827360.01  2.030320e+07      1   \n",
       "2021-01-18  2.8450  3.1175  2.9726  3.0342   5120896.85  1.553783e+07      1   \n",
       "2021-01-19  2.8724  3.2200  3.0346  2.8731   6922518.64  1.988909e+07      1   \n",
       "2021-01-20  2.6444  2.9496  2.8723  2.8772   4913515.79  1.413717e+07      1   \n",
       "\n",
       "            dayofweek  week_low_mean  week_high_mean  ...  low_lag_5  \\\n",
       "date                                                  ...              \n",
       "2021-01-16          5       2.306043        2.700300  ...     2.0583   \n",
       "2021-01-17          6       2.344957        2.770271  ...     2.1947   \n",
       "2021-01-18          0       2.386857        2.793486  ...     2.2276   \n",
       "2021-01-19          1       2.499243        2.843014  ...     2.4061   \n",
       "2021-01-20          2       2.596057        2.952714  ...     2.4458   \n",
       "\n",
       "            low_lag_6  low_lag_7  low_lag_8  low_lag_9  low_lag_10  \\\n",
       "date                                                                 \n",
       "2021-01-16     2.3918     2.4180     2.2500     2.4050      2.2972   \n",
       "2021-01-17     2.0583     2.3918     2.4180     2.2500      2.4050   \n",
       "2021-01-18     2.1947     2.0583     2.3918     2.4180      2.2500   \n",
       "2021-01-19     2.2276     2.1947     2.0583     2.3918      2.4180   \n",
       "2021-01-20     2.4061     2.2276     2.1947     2.0583      2.3918   \n",
       "\n",
       "            low_lag_11  low_lag_12  low_lag_13  low_lag_14  \n",
       "date                                                        \n",
       "2021-01-16      2.1361      2.0158      1.9538      1.9500  \n",
       "2021-01-17      2.2972      2.1361      2.0158      1.9538  \n",
       "2021-01-18      2.4050      2.2972      2.1361      2.0158  \n",
       "2021-01-19      2.2500      2.4050      2.2972      2.1361  \n",
       "2021-01-20      2.4180      2.2500      2.4050      2.2972  \n",
       "\n",
       "[5 rows x 42 columns]"
      ]
     },
     "execution_count": 13,
     "metadata": {},
     "output_type": "execute_result"
    }
   ],
   "source": [
    "df.tail()"
   ]
  },
  {
   "cell_type": "code",
   "execution_count": 14,
   "metadata": {},
   "outputs": [
    {
     "data": {
      "text/plain": [
       "Index(['low', 'high', 'open', 'close', 'volume', 'vol_fiat', 'month',\n",
       "       'dayofweek', 'week_low_mean', 'week_high_mean', 'bi_week_low_mean',\n",
       "       'bi_week_high_mean', 'month_low_mean', 'month_high_mean', 'high_lag_1',\n",
       "       'high_lag_2', 'high_lag_3', 'high_lag_4', 'high_lag_5', 'high_lag_6',\n",
       "       'high_lag_7', 'high_lag_8', 'high_lag_9', 'high_lag_10', 'high_lag_11',\n",
       "       'high_lag_12', 'high_lag_13', 'high_lag_14', 'low_lag_1', 'low_lag_2',\n",
       "       'low_lag_3', 'low_lag_4', 'low_lag_5', 'low_lag_6', 'low_lag_7',\n",
       "       'low_lag_8', 'low_lag_9', 'low_lag_10', 'low_lag_11', 'low_lag_12',\n",
       "       'low_lag_13', 'low_lag_14'],\n",
       "      dtype='object')"
      ]
     },
     "execution_count": 14,
     "metadata": {},
     "output_type": "execute_result"
    }
   ],
   "source": [
    "df.columns"
   ]
  },
  {
   "cell_type": "code",
   "execution_count": 15,
   "metadata": {},
   "outputs": [],
   "source": [
    "# Since we are trying to predict, many columns in here are not necessary and could impede our model\n",
    "df.drop(['vol_fiat', 'volume', 'close', 'open'], axis=1, inplace=True)"
   ]
  },
  {
   "cell_type": "code",
   "execution_count": 16,
   "metadata": {},
   "outputs": [
    {
     "data": {
      "text/plain": [
       "Index(['low', 'high', 'month', 'dayofweek', 'week_low_mean', 'week_high_mean',\n",
       "       'bi_week_low_mean', 'bi_week_high_mean', 'month_low_mean',\n",
       "       'month_high_mean', 'high_lag_1', 'high_lag_2', 'high_lag_3',\n",
       "       'high_lag_4', 'high_lag_5', 'high_lag_6', 'high_lag_7', 'high_lag_8',\n",
       "       'high_lag_9', 'high_lag_10', 'high_lag_11', 'high_lag_12',\n",
       "       'high_lag_13', 'high_lag_14', 'low_lag_1', 'low_lag_2', 'low_lag_3',\n",
       "       'low_lag_4', 'low_lag_5', 'low_lag_6', 'low_lag_7', 'low_lag_8',\n",
       "       'low_lag_9', 'low_lag_10', 'low_lag_11', 'low_lag_12', 'low_lag_13',\n",
       "       'low_lag_14'],\n",
       "      dtype='object')"
      ]
     },
     "execution_count": 16,
     "metadata": {},
     "output_type": "execute_result"
    }
   ],
   "source": [
    "df.columns"
   ]
  },
  {
   "cell_type": "markdown",
   "metadata": {},
   "source": [
    "# Preparing Data for Model"
   ]
  },
  {
   "cell_type": "code",
   "execution_count": 17,
   "metadata": {},
   "outputs": [],
   "source": [
    "from sklearn.ensemble import RandomForestRegressor\n",
    "from sklearn.model_selection import train_test_split\n",
    "from sklearn.metrics import mean_squared_error"
   ]
  },
  {
   "cell_type": "code",
   "execution_count": 18,
   "metadata": {},
   "outputs": [],
   "source": [
    "train, test = train_test_split(df, shuffle=False, test_size=0.1)\n",
    "train = train.dropna()"
   ]
  },
  {
   "cell_type": "code",
   "execution_count": 19,
   "metadata": {},
   "outputs": [],
   "source": [
    "X_train = train.drop(['low', 'high'], axis=1)\n",
    "X_test = test.drop(['low', 'high'], axis=1)\n",
    "y_train = train[['low', 'high']]\n",
    "y_test = test[['low', 'high']]"
   ]
  },
  {
   "cell_type": "code",
   "execution_count": 20,
   "metadata": {},
   "outputs": [],
   "source": [
    "model = RandomForestRegressor(random_state=47)"
   ]
  },
  {
   "cell_type": "code",
   "execution_count": 21,
   "metadata": {},
   "outputs": [],
   "source": [
    "model.fit(X_train, y_train)\n",
    "predict = model.predict(X_test)"
   ]
  },
  {
   "cell_type": "code",
   "execution_count": 22,
   "metadata": {},
   "outputs": [
    {
     "data": {
      "text/plain": [
       "0.15331193961522796"
      ]
     },
     "execution_count": 22,
     "metadata": {},
     "output_type": "execute_result"
    }
   ],
   "source": [
    "rmse = np.sqrt(mean_squared_error(y_test, predict))\n",
    "rmse"
   ]
  },
  {
   "cell_type": "code",
   "execution_count": 23,
   "metadata": {},
   "outputs": [
    {
     "data": {
      "text/plain": [
       "array([[2.12702 , 2.28307 ],\n",
       "       [2.083298, 2.19611 ],\n",
       "       [1.978885, 2.142305],\n",
       "       [1.894468, 2.043957],\n",
       "       [1.990918, 2.137352],\n",
       "       [1.863471, 2.004373],\n",
       "       [1.991336, 2.175085],\n",
       "       [2.074351, 2.221489],\n",
       "       [2.036775, 2.191802],\n",
       "       [1.895414, 2.045679],\n",
       "       [1.86691 , 2.027007],\n",
       "       [1.990305, 2.156624],\n",
       "       [1.896693, 2.050752],\n",
       "       [2.015172, 2.173286],\n",
       "       [2.116996, 2.290443],\n",
       "       [2.221918, 2.463395],\n",
       "       [2.359283, 2.678284],\n",
       "       [2.394722, 2.742321],\n",
       "       [2.291628, 2.552671],\n",
       "       [2.416487, 2.717891],\n",
       "       [2.41578 , 2.784421],\n",
       "       [2.318004, 2.579011],\n",
       "       [2.274018, 2.455458],\n",
       "       [2.288759, 2.452641],\n",
       "       [2.415353, 2.646091],\n",
       "       [2.448059, 2.742979],\n",
       "       [2.791797, 3.081628],\n",
       "       [2.787166, 3.096712],\n",
       "       [2.831848, 3.146493],\n",
       "       [2.901752, 3.165207]])"
      ]
     },
     "execution_count": 23,
     "metadata": {},
     "output_type": "execute_result"
    }
   ],
   "source": [
    "predict"
   ]
  },
  {
   "cell_type": "markdown",
   "metadata": {},
   "source": [
    "# Hyperparamter Tuning\n",
    "## Sticking with Random Forest"
   ]
  },
  {
   "cell_type": "code",
   "execution_count": null,
   "metadata": {},
   "outputs": [],
   "source": []
  },
  {
   "cell_type": "markdown",
   "metadata": {},
   "source": [
    "# Searching for Best Features\n",
    "## Auto Feature Engineering"
   ]
  },
  {
   "cell_type": "code",
   "execution_count": 24,
   "metadata": {},
   "outputs": [
    {
     "data": {
      "text/html": [
       "<div>\n",
       "<style scoped>\n",
       "    .dataframe tbody tr th:only-of-type {\n",
       "        vertical-align: middle;\n",
       "    }\n",
       "\n",
       "    .dataframe tbody tr th {\n",
       "        vertical-align: top;\n",
       "    }\n",
       "\n",
       "    .dataframe thead th {\n",
       "        text-align: right;\n",
       "    }\n",
       "</style>\n",
       "<table border=\"1\" class=\"dataframe\">\n",
       "  <thead>\n",
       "    <tr style=\"text-align: right;\">\n",
       "      <th></th>\n",
       "      <th>low</th>\n",
       "      <th>high</th>\n",
       "      <th>open</th>\n",
       "      <th>close</th>\n",
       "      <th>volume</th>\n",
       "      <th>vol_fiat</th>\n",
       "    </tr>\n",
       "    <tr>\n",
       "      <th>date</th>\n",
       "      <th></th>\n",
       "      <th></th>\n",
       "      <th></th>\n",
       "      <th></th>\n",
       "      <th></th>\n",
       "      <th></th>\n",
       "    </tr>\n",
       "  </thead>\n",
       "  <tbody>\n",
       "    <tr>\n",
       "      <th>2020-03-27</th>\n",
       "      <td>1.5713</td>\n",
       "      <td>1.7897</td>\n",
       "      <td>1.7645</td>\n",
       "      <td>1.5897</td>\n",
       "      <td>3969087.96</td>\n",
       "      <td>6.309659e+06</td>\n",
       "    </tr>\n",
       "    <tr>\n",
       "      <th>2020-03-28</th>\n",
       "      <td>1.5052</td>\n",
       "      <td>1.6226</td>\n",
       "      <td>1.5896</td>\n",
       "      <td>1.5655</td>\n",
       "      <td>3872624.59</td>\n",
       "      <td>6.062594e+06</td>\n",
       "    </tr>\n",
       "    <tr>\n",
       "      <th>2020-03-29</th>\n",
       "      <td>1.4664</td>\n",
       "      <td>1.5804</td>\n",
       "      <td>1.5693</td>\n",
       "      <td>1.4698</td>\n",
       "      <td>2250825.26</td>\n",
       "      <td>3.308263e+06</td>\n",
       "    </tr>\n",
       "    <tr>\n",
       "      <th>2020-03-30</th>\n",
       "      <td>1.4610</td>\n",
       "      <td>1.6650</td>\n",
       "      <td>1.4675</td>\n",
       "      <td>1.6077</td>\n",
       "      <td>2626418.20</td>\n",
       "      <td>4.222493e+06</td>\n",
       "    </tr>\n",
       "    <tr>\n",
       "      <th>2020-03-31</th>\n",
       "      <td>1.5532</td>\n",
       "      <td>1.6424</td>\n",
       "      <td>1.6081</td>\n",
       "      <td>1.6110</td>\n",
       "      <td>1892308.96</td>\n",
       "      <td>3.048510e+06</td>\n",
       "    </tr>\n",
       "  </tbody>\n",
       "</table>\n",
       "</div>"
      ],
      "text/plain": [
       "               low    high    open   close      volume      vol_fiat\n",
       "date                                                                \n",
       "2020-03-27  1.5713  1.7897  1.7645  1.5897  3969087.96  6.309659e+06\n",
       "2020-03-28  1.5052  1.6226  1.5896  1.5655  3872624.59  6.062594e+06\n",
       "2020-03-29  1.4664  1.5804  1.5693  1.4698  2250825.26  3.308263e+06\n",
       "2020-03-30  1.4610  1.6650  1.4675  1.6077  2626418.20  4.222493e+06\n",
       "2020-03-31  1.5532  1.6424  1.6081  1.6110  1892308.96  3.048510e+06"
      ]
     },
     "execution_count": 24,
     "metadata": {},
     "output_type": "execute_result"
    }
   ],
   "source": [
    "df = pd.read_csv('cb_XTZUSD_daily.csv', index_col='date', parse_dates=[0])\n",
    "df.drop('unix', axis=1, inplace=True)\n",
    "df.index = pd.to_datetime(df.index)\n",
    "df.sort_values(by='date', axis=0, inplace=True)\n",
    "df.head()"
   ]
  },
  {
   "cell_type": "code",
   "execution_count": null,
   "metadata": {},
   "outputs": [],
   "source": [
    "def find_best_features(data, test_range):\n",
    "    '''Takes a standard pandas dataframe and the amount of units to test. In this way, it sorts through our \n",
    "    make_features() function to find the best possible results without hyperparamter tuning.'''"
   ]
  }
 ],
 "metadata": {
  "kernelspec": {
   "display_name": "Python 3",
   "language": "python",
   "name": "python3"
  },
  "language_info": {
   "codemirror_mode": {
    "name": "ipython",
    "version": 3
   },
   "file_extension": ".py",
   "mimetype": "text/x-python",
   "name": "python",
   "nbconvert_exporter": "python",
   "pygments_lexer": "ipython3",
   "version": "3.8.5"
  }
 },
 "nbformat": 4,
 "nbformat_minor": 4
}
