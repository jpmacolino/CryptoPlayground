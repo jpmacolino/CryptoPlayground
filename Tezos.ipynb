{
 "cells": [
  {
   "cell_type": "code",
   "execution_count": 1,
   "metadata": {},
   "outputs": [],
   "source": [
    "import pandas as pd\n",
    "import numpy as np\n",
    "import matplotlib.pyplot as plt\n",
    "import requests\n",
    "import json"
   ]
  },
  {
   "cell_type": "code",
   "execution_count": 2,
   "metadata": {},
   "outputs": [],
   "source": [
    "# function courtesy of CryptoDataDownload.com\n",
    "def fetch_daily_data(symbol):\n",
    "    pair_split = symbol.split('/')  # symbol must be in format XXX/XXX ie. BTC/EUR\n",
    "    symbol = pair_split[0] + '-' + pair_split[1]\n",
    "    url = f'https://api.pro.coinbase.com/products/{symbol}/candles?granularity=86400'\n",
    "    response = requests.get(url)\n",
    "    if response.status_code == 200:  # check to make sure the response from server is good\n",
    "        data = pd.DataFrame(json.loads(response.text), columns=['unix', 'low', 'high', 'open', 'close', 'volume'])\n",
    "        data['date'] = pd.to_datetime(data['unix'], unit='s')  # convert to a readable date\n",
    "        data['vol_fiat'] = data['volume'] * data['close']      # multiply the BTC volume by closing price to approximate fiat volume\n",
    "                            \n",
    "        # if we failed to get any data, print an error...otherwise write the file\n",
    "        if data is None:\n",
    "            print(\"Did not return any data from Coinbase for this symbol\")\n",
    "        else:\n",
    "            data.to_csv(f'cb_{pair_split[0] + pair_split[1]}_daily.csv', index=False)\n",
    "    else:\n",
    "        print(\"Did not receieve OK response from Coinbase API\")"
   ]
  },
  {
   "cell_type": "markdown",
   "metadata": {},
   "source": [
    "## Pulling Tezos\n",
    "Trying Tezos next."
   ]
  },
  {
   "cell_type": "code",
   "execution_count": 3,
   "metadata": {},
   "outputs": [],
   "source": [
    "# fetch_daily_data('XTZ/USD')"
   ]
  },
  {
   "cell_type": "code",
   "execution_count": 4,
   "metadata": {},
   "outputs": [],
   "source": [
    "df = pd.read_csv('cb_XTZUSD_daily.csv', index_col='date', parse_dates=[0])"
   ]
  },
  {
   "cell_type": "code",
   "execution_count": 5,
   "metadata": {},
   "outputs": [
    {
     "data": {
      "text/html": [
       "<div>\n",
       "<style scoped>\n",
       "    .dataframe tbody tr th:only-of-type {\n",
       "        vertical-align: middle;\n",
       "    }\n",
       "\n",
       "    .dataframe tbody tr th {\n",
       "        vertical-align: top;\n",
       "    }\n",
       "\n",
       "    .dataframe thead th {\n",
       "        text-align: right;\n",
       "    }\n",
       "</style>\n",
       "<table border=\"1\" class=\"dataframe\">\n",
       "  <thead>\n",
       "    <tr style=\"text-align: right;\">\n",
       "      <th></th>\n",
       "      <th>unix</th>\n",
       "      <th>low</th>\n",
       "      <th>high</th>\n",
       "      <th>open</th>\n",
       "      <th>close</th>\n",
       "      <th>volume</th>\n",
       "      <th>vol_fiat</th>\n",
       "    </tr>\n",
       "    <tr>\n",
       "      <th>date</th>\n",
       "      <th></th>\n",
       "      <th></th>\n",
       "      <th></th>\n",
       "      <th></th>\n",
       "      <th></th>\n",
       "      <th></th>\n",
       "      <th></th>\n",
       "    </tr>\n",
       "  </thead>\n",
       "  <tbody>\n",
       "    <tr>\n",
       "      <th>2021-01-20</th>\n",
       "      <td>1611100800</td>\n",
       "      <td>2.6444</td>\n",
       "      <td>2.9496</td>\n",
       "      <td>2.8723</td>\n",
       "      <td>2.8772</td>\n",
       "      <td>4913515.79</td>\n",
       "      <td>1.413717e+07</td>\n",
       "    </tr>\n",
       "    <tr>\n",
       "      <th>2021-01-19</th>\n",
       "      <td>1611014400</td>\n",
       "      <td>2.8724</td>\n",
       "      <td>3.2200</td>\n",
       "      <td>3.0346</td>\n",
       "      <td>2.8731</td>\n",
       "      <td>6922518.64</td>\n",
       "      <td>1.988909e+07</td>\n",
       "    </tr>\n",
       "    <tr>\n",
       "      <th>2021-01-18</th>\n",
       "      <td>1610928000</td>\n",
       "      <td>2.8450</td>\n",
       "      <td>3.1175</td>\n",
       "      <td>2.9726</td>\n",
       "      <td>3.0342</td>\n",
       "      <td>5120896.85</td>\n",
       "      <td>1.553783e+07</td>\n",
       "    </tr>\n",
       "    <tr>\n",
       "      <th>2021-01-17</th>\n",
       "      <td>1610841600</td>\n",
       "      <td>2.6851</td>\n",
       "      <td>3.1136</td>\n",
       "      <td>2.8530</td>\n",
       "      <td>2.9738</td>\n",
       "      <td>6827360.01</td>\n",
       "      <td>2.030320e+07</td>\n",
       "    </tr>\n",
       "    <tr>\n",
       "      <th>2021-01-16</th>\n",
       "      <td>1610755200</td>\n",
       "      <td>2.6904</td>\n",
       "      <td>3.1882</td>\n",
       "      <td>2.7064</td>\n",
       "      <td>2.8540</td>\n",
       "      <td>13772368.03</td>\n",
       "      <td>3.930634e+07</td>\n",
       "    </tr>\n",
       "  </tbody>\n",
       "</table>\n",
       "</div>"
      ],
      "text/plain": [
       "                  unix     low    high    open   close       volume  \\\n",
       "date                                                                  \n",
       "2021-01-20  1611100800  2.6444  2.9496  2.8723  2.8772   4913515.79   \n",
       "2021-01-19  1611014400  2.8724  3.2200  3.0346  2.8731   6922518.64   \n",
       "2021-01-18  1610928000  2.8450  3.1175  2.9726  3.0342   5120896.85   \n",
       "2021-01-17  1610841600  2.6851  3.1136  2.8530  2.9738   6827360.01   \n",
       "2021-01-16  1610755200  2.6904  3.1882  2.7064  2.8540  13772368.03   \n",
       "\n",
       "                vol_fiat  \n",
       "date                      \n",
       "2021-01-20  1.413717e+07  \n",
       "2021-01-19  1.988909e+07  \n",
       "2021-01-18  1.553783e+07  \n",
       "2021-01-17  2.030320e+07  \n",
       "2021-01-16  3.930634e+07  "
      ]
     },
     "execution_count": 5,
     "metadata": {},
     "output_type": "execute_result"
    }
   ],
   "source": [
    "df.head()"
   ]
  },
  {
   "cell_type": "code",
   "execution_count": 6,
   "metadata": {},
   "outputs": [],
   "source": [
    "df.drop('unix', axis=1, inplace=True)"
   ]
  },
  {
   "cell_type": "code",
   "execution_count": 7,
   "metadata": {},
   "outputs": [
    {
     "name": "stdout",
     "output_type": "stream",
     "text": [
      "<class 'pandas.core.frame.DataFrame'>\n",
      "Index: 300 entries, 2021-01-20 to 2020-03-27\n",
      "Data columns (total 6 columns):\n",
      " #   Column    Non-Null Count  Dtype  \n",
      "---  ------    --------------  -----  \n",
      " 0   low       300 non-null    float64\n",
      " 1   high      300 non-null    float64\n",
      " 2   open      300 non-null    float64\n",
      " 3   close     300 non-null    float64\n",
      " 4   volume    300 non-null    float64\n",
      " 5   vol_fiat  300 non-null    float64\n",
      "dtypes: float64(6)\n",
      "memory usage: 16.4+ KB\n"
     ]
    }
   ],
   "source": [
    "df.info()"
   ]
  },
  {
   "cell_type": "code",
   "execution_count": 8,
   "metadata": {},
   "outputs": [],
   "source": [
    "df.index = pd.to_datetime(df.index)"
   ]
  },
  {
   "cell_type": "code",
   "execution_count": 9,
   "metadata": {},
   "outputs": [],
   "source": [
    "df.sort_values(by='date', axis=0, inplace=True)"
   ]
  },
  {
   "cell_type": "code",
   "execution_count": 10,
   "metadata": {},
   "outputs": [
    {
     "data": {
      "text/html": [
       "<div>\n",
       "<style scoped>\n",
       "    .dataframe tbody tr th:only-of-type {\n",
       "        vertical-align: middle;\n",
       "    }\n",
       "\n",
       "    .dataframe tbody tr th {\n",
       "        vertical-align: top;\n",
       "    }\n",
       "\n",
       "    .dataframe thead th {\n",
       "        text-align: right;\n",
       "    }\n",
       "</style>\n",
       "<table border=\"1\" class=\"dataframe\">\n",
       "  <thead>\n",
       "    <tr style=\"text-align: right;\">\n",
       "      <th></th>\n",
       "      <th>low</th>\n",
       "      <th>high</th>\n",
       "      <th>open</th>\n",
       "      <th>close</th>\n",
       "      <th>volume</th>\n",
       "      <th>vol_fiat</th>\n",
       "    </tr>\n",
       "    <tr>\n",
       "      <th>date</th>\n",
       "      <th></th>\n",
       "      <th></th>\n",
       "      <th></th>\n",
       "      <th></th>\n",
       "      <th></th>\n",
       "      <th></th>\n",
       "    </tr>\n",
       "  </thead>\n",
       "  <tbody>\n",
       "    <tr>\n",
       "      <th>2020-03-27</th>\n",
       "      <td>1.5713</td>\n",
       "      <td>1.7897</td>\n",
       "      <td>1.7645</td>\n",
       "      <td>1.5897</td>\n",
       "      <td>3969087.96</td>\n",
       "      <td>6.309659e+06</td>\n",
       "    </tr>\n",
       "    <tr>\n",
       "      <th>2020-03-28</th>\n",
       "      <td>1.5052</td>\n",
       "      <td>1.6226</td>\n",
       "      <td>1.5896</td>\n",
       "      <td>1.5655</td>\n",
       "      <td>3872624.59</td>\n",
       "      <td>6.062594e+06</td>\n",
       "    </tr>\n",
       "    <tr>\n",
       "      <th>2020-03-29</th>\n",
       "      <td>1.4664</td>\n",
       "      <td>1.5804</td>\n",
       "      <td>1.5693</td>\n",
       "      <td>1.4698</td>\n",
       "      <td>2250825.26</td>\n",
       "      <td>3.308263e+06</td>\n",
       "    </tr>\n",
       "    <tr>\n",
       "      <th>2020-03-30</th>\n",
       "      <td>1.4610</td>\n",
       "      <td>1.6650</td>\n",
       "      <td>1.4675</td>\n",
       "      <td>1.6077</td>\n",
       "      <td>2626418.20</td>\n",
       "      <td>4.222493e+06</td>\n",
       "    </tr>\n",
       "    <tr>\n",
       "      <th>2020-03-31</th>\n",
       "      <td>1.5532</td>\n",
       "      <td>1.6424</td>\n",
       "      <td>1.6081</td>\n",
       "      <td>1.6110</td>\n",
       "      <td>1892308.96</td>\n",
       "      <td>3.048510e+06</td>\n",
       "    </tr>\n",
       "  </tbody>\n",
       "</table>\n",
       "</div>"
      ],
      "text/plain": [
       "               low    high    open   close      volume      vol_fiat\n",
       "date                                                                \n",
       "2020-03-27  1.5713  1.7897  1.7645  1.5897  3969087.96  6.309659e+06\n",
       "2020-03-28  1.5052  1.6226  1.5896  1.5655  3872624.59  6.062594e+06\n",
       "2020-03-29  1.4664  1.5804  1.5693  1.4698  2250825.26  3.308263e+06\n",
       "2020-03-30  1.4610  1.6650  1.4675  1.6077  2626418.20  4.222493e+06\n",
       "2020-03-31  1.5532  1.6424  1.6081  1.6110  1892308.96  3.048510e+06"
      ]
     },
     "execution_count": 10,
     "metadata": {},
     "output_type": "execute_result"
    }
   ],
   "source": [
    "df.head()"
   ]
  },
  {
   "cell_type": "markdown",
   "metadata": {},
   "source": [
    "# Feature Engineering\n",
    "Here we are designing our features to better predict the price."
   ]
  },
  {
   "cell_type": "code",
   "execution_count": 11,
   "metadata": {},
   "outputs": [],
   "source": [
    "def make_features(data, max_lag):\n",
    "    data['month'] = data.index.month\n",
    "    data['dayofweek'] = data.index.dayofweek\n",
    "    data['week_low_mean'] = data['low'].shift().rolling(7).mean()\n",
    "    data['week_high_mean'] = data['high'].shift().rolling(7).mean()\n",
    "    data['bi_week_low_mean'] = data['low'].shift().rolling(14).mean()\n",
    "    data['bi_week_high_mean'] = data['high'].shift().rolling(14).mean()\n",
    "    data['month_low_mean'] = data['low'].shift().rolling(28).mean()\n",
    "    data['month_high_mean'] = data['high'].shift().rolling(28).mean()\n",
    "    for lag in range(1, max_lag + 1):\n",
    "        data['high_lag_{}'.format(lag)] = data['high'].shift(lag)\n",
    "    for lag in range(1, max_lag + 1):\n",
    "        data['low_lag_{}'.format(lag)] = data['low'].shift(lag)"
   ]
  },
  {
   "cell_type": "code",
   "execution_count": 12,
   "metadata": {},
   "outputs": [],
   "source": [
    "make_features(df, 11)"
   ]
  },
  {
   "cell_type": "code",
   "execution_count": 13,
   "metadata": {},
   "outputs": [
    {
     "data": {
      "text/html": [
       "<div>\n",
       "<style scoped>\n",
       "    .dataframe tbody tr th:only-of-type {\n",
       "        vertical-align: middle;\n",
       "    }\n",
       "\n",
       "    .dataframe tbody tr th {\n",
       "        vertical-align: top;\n",
       "    }\n",
       "\n",
       "    .dataframe thead th {\n",
       "        text-align: right;\n",
       "    }\n",
       "</style>\n",
       "<table border=\"1\" class=\"dataframe\">\n",
       "  <thead>\n",
       "    <tr style=\"text-align: right;\">\n",
       "      <th></th>\n",
       "      <th>low</th>\n",
       "      <th>high</th>\n",
       "      <th>open</th>\n",
       "      <th>close</th>\n",
       "      <th>volume</th>\n",
       "      <th>vol_fiat</th>\n",
       "      <th>month</th>\n",
       "      <th>dayofweek</th>\n",
       "      <th>week_low_mean</th>\n",
       "      <th>week_high_mean</th>\n",
       "      <th>...</th>\n",
       "      <th>low_lag_2</th>\n",
       "      <th>low_lag_3</th>\n",
       "      <th>low_lag_4</th>\n",
       "      <th>low_lag_5</th>\n",
       "      <th>low_lag_6</th>\n",
       "      <th>low_lag_7</th>\n",
       "      <th>low_lag_8</th>\n",
       "      <th>low_lag_9</th>\n",
       "      <th>low_lag_10</th>\n",
       "      <th>low_lag_11</th>\n",
       "    </tr>\n",
       "    <tr>\n",
       "      <th>date</th>\n",
       "      <th></th>\n",
       "      <th></th>\n",
       "      <th></th>\n",
       "      <th></th>\n",
       "      <th></th>\n",
       "      <th></th>\n",
       "      <th></th>\n",
       "      <th></th>\n",
       "      <th></th>\n",
       "      <th></th>\n",
       "      <th></th>\n",
       "      <th></th>\n",
       "      <th></th>\n",
       "      <th></th>\n",
       "      <th></th>\n",
       "      <th></th>\n",
       "      <th></th>\n",
       "      <th></th>\n",
       "      <th></th>\n",
       "      <th></th>\n",
       "      <th></th>\n",
       "    </tr>\n",
       "  </thead>\n",
       "  <tbody>\n",
       "    <tr>\n",
       "      <th>2021-01-16</th>\n",
       "      <td>2.6904</td>\n",
       "      <td>3.1882</td>\n",
       "      <td>2.7064</td>\n",
       "      <td>2.8540</td>\n",
       "      <td>13772368.03</td>\n",
       "      <td>3.930634e+07</td>\n",
       "      <td>1</td>\n",
       "      <td>5</td>\n",
       "      <td>2.306043</td>\n",
       "      <td>2.700300</td>\n",
       "      <td>...</td>\n",
       "      <td>2.4061</td>\n",
       "      <td>2.2276</td>\n",
       "      <td>2.1947</td>\n",
       "      <td>2.0583</td>\n",
       "      <td>2.3918</td>\n",
       "      <td>2.4180</td>\n",
       "      <td>2.2500</td>\n",
       "      <td>2.4050</td>\n",
       "      <td>2.2972</td>\n",
       "      <td>2.1361</td>\n",
       "    </tr>\n",
       "    <tr>\n",
       "      <th>2021-01-17</th>\n",
       "      <td>2.6851</td>\n",
       "      <td>3.1136</td>\n",
       "      <td>2.8530</td>\n",
       "      <td>2.9738</td>\n",
       "      <td>6827360.01</td>\n",
       "      <td>2.030320e+07</td>\n",
       "      <td>1</td>\n",
       "      <td>6</td>\n",
       "      <td>2.344957</td>\n",
       "      <td>2.770271</td>\n",
       "      <td>...</td>\n",
       "      <td>2.4458</td>\n",
       "      <td>2.4061</td>\n",
       "      <td>2.2276</td>\n",
       "      <td>2.1947</td>\n",
       "      <td>2.0583</td>\n",
       "      <td>2.3918</td>\n",
       "      <td>2.4180</td>\n",
       "      <td>2.2500</td>\n",
       "      <td>2.4050</td>\n",
       "      <td>2.2972</td>\n",
       "    </tr>\n",
       "    <tr>\n",
       "      <th>2021-01-18</th>\n",
       "      <td>2.8450</td>\n",
       "      <td>3.1175</td>\n",
       "      <td>2.9726</td>\n",
       "      <td>3.0342</td>\n",
       "      <td>5120896.85</td>\n",
       "      <td>1.553783e+07</td>\n",
       "      <td>1</td>\n",
       "      <td>0</td>\n",
       "      <td>2.386857</td>\n",
       "      <td>2.793486</td>\n",
       "      <td>...</td>\n",
       "      <td>2.6904</td>\n",
       "      <td>2.4458</td>\n",
       "      <td>2.4061</td>\n",
       "      <td>2.2276</td>\n",
       "      <td>2.1947</td>\n",
       "      <td>2.0583</td>\n",
       "      <td>2.3918</td>\n",
       "      <td>2.4180</td>\n",
       "      <td>2.2500</td>\n",
       "      <td>2.4050</td>\n",
       "    </tr>\n",
       "    <tr>\n",
       "      <th>2021-01-19</th>\n",
       "      <td>2.8724</td>\n",
       "      <td>3.2200</td>\n",
       "      <td>3.0346</td>\n",
       "      <td>2.8731</td>\n",
       "      <td>6922518.64</td>\n",
       "      <td>1.988909e+07</td>\n",
       "      <td>1</td>\n",
       "      <td>1</td>\n",
       "      <td>2.499243</td>\n",
       "      <td>2.843014</td>\n",
       "      <td>...</td>\n",
       "      <td>2.6851</td>\n",
       "      <td>2.6904</td>\n",
       "      <td>2.4458</td>\n",
       "      <td>2.4061</td>\n",
       "      <td>2.2276</td>\n",
       "      <td>2.1947</td>\n",
       "      <td>2.0583</td>\n",
       "      <td>2.3918</td>\n",
       "      <td>2.4180</td>\n",
       "      <td>2.2500</td>\n",
       "    </tr>\n",
       "    <tr>\n",
       "      <th>2021-01-20</th>\n",
       "      <td>2.6444</td>\n",
       "      <td>2.9496</td>\n",
       "      <td>2.8723</td>\n",
       "      <td>2.8772</td>\n",
       "      <td>4913515.79</td>\n",
       "      <td>1.413717e+07</td>\n",
       "      <td>1</td>\n",
       "      <td>2</td>\n",
       "      <td>2.596057</td>\n",
       "      <td>2.952714</td>\n",
       "      <td>...</td>\n",
       "      <td>2.8450</td>\n",
       "      <td>2.6851</td>\n",
       "      <td>2.6904</td>\n",
       "      <td>2.4458</td>\n",
       "      <td>2.4061</td>\n",
       "      <td>2.2276</td>\n",
       "      <td>2.1947</td>\n",
       "      <td>2.0583</td>\n",
       "      <td>2.3918</td>\n",
       "      <td>2.4180</td>\n",
       "    </tr>\n",
       "  </tbody>\n",
       "</table>\n",
       "<p>5 rows × 36 columns</p>\n",
       "</div>"
      ],
      "text/plain": [
       "               low    high    open   close       volume      vol_fiat  month  \\\n",
       "date                                                                           \n",
       "2021-01-16  2.6904  3.1882  2.7064  2.8540  13772368.03  3.930634e+07      1   \n",
       "2021-01-17  2.6851  3.1136  2.8530  2.9738   6827360.01  2.030320e+07      1   \n",
       "2021-01-18  2.8450  3.1175  2.9726  3.0342   5120896.85  1.553783e+07      1   \n",
       "2021-01-19  2.8724  3.2200  3.0346  2.8731   6922518.64  1.988909e+07      1   \n",
       "2021-01-20  2.6444  2.9496  2.8723  2.8772   4913515.79  1.413717e+07      1   \n",
       "\n",
       "            dayofweek  week_low_mean  week_high_mean  ...  low_lag_2  \\\n",
       "date                                                  ...              \n",
       "2021-01-16          5       2.306043        2.700300  ...     2.4061   \n",
       "2021-01-17          6       2.344957        2.770271  ...     2.4458   \n",
       "2021-01-18          0       2.386857        2.793486  ...     2.6904   \n",
       "2021-01-19          1       2.499243        2.843014  ...     2.6851   \n",
       "2021-01-20          2       2.596057        2.952714  ...     2.8450   \n",
       "\n",
       "            low_lag_3  low_lag_4  low_lag_5  low_lag_6  low_lag_7  low_lag_8  \\\n",
       "date                                                                           \n",
       "2021-01-16     2.2276     2.1947     2.0583     2.3918     2.4180     2.2500   \n",
       "2021-01-17     2.4061     2.2276     2.1947     2.0583     2.3918     2.4180   \n",
       "2021-01-18     2.4458     2.4061     2.2276     2.1947     2.0583     2.3918   \n",
       "2021-01-19     2.6904     2.4458     2.4061     2.2276     2.1947     2.0583   \n",
       "2021-01-20     2.6851     2.6904     2.4458     2.4061     2.2276     2.1947   \n",
       "\n",
       "            low_lag_9  low_lag_10  low_lag_11  \n",
       "date                                           \n",
       "2021-01-16     2.4050      2.2972      2.1361  \n",
       "2021-01-17     2.2500      2.4050      2.2972  \n",
       "2021-01-18     2.4180      2.2500      2.4050  \n",
       "2021-01-19     2.3918      2.4180      2.2500  \n",
       "2021-01-20     2.0583      2.3918      2.4180  \n",
       "\n",
       "[5 rows x 36 columns]"
      ]
     },
     "execution_count": 13,
     "metadata": {},
     "output_type": "execute_result"
    }
   ],
   "source": [
    "df.tail()"
   ]
  },
  {
   "cell_type": "code",
   "execution_count": 14,
   "metadata": {},
   "outputs": [
    {
     "data": {
      "text/plain": [
       "Index(['low', 'high', 'open', 'close', 'volume', 'vol_fiat', 'month',\n",
       "       'dayofweek', 'week_low_mean', 'week_high_mean', 'bi_week_low_mean',\n",
       "       'bi_week_high_mean', 'month_low_mean', 'month_high_mean', 'high_lag_1',\n",
       "       'high_lag_2', 'high_lag_3', 'high_lag_4', 'high_lag_5', 'high_lag_6',\n",
       "       'high_lag_7', 'high_lag_8', 'high_lag_9', 'high_lag_10', 'high_lag_11',\n",
       "       'low_lag_1', 'low_lag_2', 'low_lag_3', 'low_lag_4', 'low_lag_5',\n",
       "       'low_lag_6', 'low_lag_7', 'low_lag_8', 'low_lag_9', 'low_lag_10',\n",
       "       'low_lag_11'],\n",
       "      dtype='object')"
      ]
     },
     "execution_count": 14,
     "metadata": {},
     "output_type": "execute_result"
    }
   ],
   "source": [
    "df.columns"
   ]
  },
  {
   "cell_type": "code",
   "execution_count": 15,
   "metadata": {},
   "outputs": [],
   "source": [
    "# Since we are trying to predict, many columns in here are not necessary and could impede our model\n",
    "df.drop(['vol_fiat', 'volume', 'close', 'open'], axis=1, inplace=True)"
   ]
  },
  {
   "cell_type": "code",
   "execution_count": 16,
   "metadata": {},
   "outputs": [
    {
     "data": {
      "text/plain": [
       "Index(['low', 'high', 'month', 'dayofweek', 'week_low_mean', 'week_high_mean',\n",
       "       'bi_week_low_mean', 'bi_week_high_mean', 'month_low_mean',\n",
       "       'month_high_mean', 'high_lag_1', 'high_lag_2', 'high_lag_3',\n",
       "       'high_lag_4', 'high_lag_5', 'high_lag_6', 'high_lag_7', 'high_lag_8',\n",
       "       'high_lag_9', 'high_lag_10', 'high_lag_11', 'low_lag_1', 'low_lag_2',\n",
       "       'low_lag_3', 'low_lag_4', 'low_lag_5', 'low_lag_6', 'low_lag_7',\n",
       "       'low_lag_8', 'low_lag_9', 'low_lag_10', 'low_lag_11'],\n",
       "      dtype='object')"
      ]
     },
     "execution_count": 16,
     "metadata": {},
     "output_type": "execute_result"
    }
   ],
   "source": [
    "df.columns"
   ]
  },
  {
   "cell_type": "markdown",
   "metadata": {},
   "source": [
    "# Preparing Data for Model"
   ]
  },
  {
   "cell_type": "code",
   "execution_count": 17,
   "metadata": {},
   "outputs": [],
   "source": [
    "from sklearn.ensemble import RandomForestRegressor\n",
    "from sklearn.model_selection import train_test_split\n",
    "from sklearn.metrics import mean_squared_error"
   ]
  },
  {
   "cell_type": "code",
   "execution_count": 18,
   "metadata": {},
   "outputs": [],
   "source": [
    "train, test = train_test_split(df, shuffle=False, test_size=0.1)\n",
    "train = train.dropna()"
   ]
  },
  {
   "cell_type": "code",
   "execution_count": 19,
   "metadata": {},
   "outputs": [],
   "source": [
    "X_train = train.drop(['low', 'high'], axis=1)\n",
    "X_test = test.drop(['low', 'high'], axis=1)\n",
    "y_train = train[['low', 'high']]\n",
    "y_test = test[['low', 'high']]"
   ]
  },
  {
   "cell_type": "code",
   "execution_count": 20,
   "metadata": {},
   "outputs": [],
   "source": [
    "model = RandomForestRegressor(random_state=47)"
   ]
  },
  {
   "cell_type": "code",
   "execution_count": 21,
   "metadata": {},
   "outputs": [],
   "source": [
    "model.fit(X_train, y_train)\n",
    "predict = model.predict(X_test)"
   ]
  },
  {
   "cell_type": "code",
   "execution_count": 22,
   "metadata": {
    "scrolled": true
   },
   "outputs": [
    {
     "data": {
      "text/plain": [
       "0.15095086944637556"
      ]
     },
     "execution_count": 22,
     "metadata": {},
     "output_type": "execute_result"
    }
   ],
   "source": [
    "rmse = np.sqrt(mean_squared_error(y_test, predict))\n",
    "rmse"
   ]
  },
  {
   "cell_type": "code",
   "execution_count": 23,
   "metadata": {},
   "outputs": [
    {
     "data": {
      "text/html": [
       "<div>\n",
       "<style scoped>\n",
       "    .dataframe tbody tr th:only-of-type {\n",
       "        vertical-align: middle;\n",
       "    }\n",
       "\n",
       "    .dataframe tbody tr th {\n",
       "        vertical-align: top;\n",
       "    }\n",
       "\n",
       "    .dataframe thead th {\n",
       "        text-align: right;\n",
       "    }\n",
       "</style>\n",
       "<table border=\"1\" class=\"dataframe\">\n",
       "  <thead>\n",
       "    <tr style=\"text-align: right;\">\n",
       "      <th></th>\n",
       "      <th>pred_low</th>\n",
       "      <th>pred_high</th>\n",
       "      <th>real_low</th>\n",
       "      <th>real_high</th>\n",
       "    </tr>\n",
       "    <tr>\n",
       "      <th>date</th>\n",
       "      <th></th>\n",
       "      <th></th>\n",
       "      <th></th>\n",
       "      <th></th>\n",
       "    </tr>\n",
       "  </thead>\n",
       "  <tbody>\n",
       "    <tr>\n",
       "      <th>2020-12-22</th>\n",
       "      <td>2.126595</td>\n",
       "      <td>2.271106</td>\n",
       "      <td>2.0778</td>\n",
       "      <td>2.1952</td>\n",
       "    </tr>\n",
       "    <tr>\n",
       "      <th>2020-12-23</th>\n",
       "      <td>2.086719</td>\n",
       "      <td>2.190118</td>\n",
       "      <td>1.6000</td>\n",
       "      <td>2.2013</td>\n",
       "    </tr>\n",
       "    <tr>\n",
       "      <th>2020-12-24</th>\n",
       "      <td>1.977674</td>\n",
       "      <td>2.151569</td>\n",
       "      <td>1.7943</td>\n",
       "      <td>2.0844</td>\n",
       "    </tr>\n",
       "    <tr>\n",
       "      <th>2020-12-25</th>\n",
       "      <td>1.899219</td>\n",
       "      <td>2.069569</td>\n",
       "      <td>1.9775</td>\n",
       "      <td>2.1148</td>\n",
       "    </tr>\n",
       "    <tr>\n",
       "      <th>2020-12-26</th>\n",
       "      <td>2.002624</td>\n",
       "      <td>2.153410</td>\n",
       "      <td>1.9252</td>\n",
       "      <td>2.0480</td>\n",
       "    </tr>\n",
       "    <tr>\n",
       "      <th>2020-12-27</th>\n",
       "      <td>1.858683</td>\n",
       "      <td>2.003528</td>\n",
       "      <td>1.8790</td>\n",
       "      <td>2.1446</td>\n",
       "    </tr>\n",
       "    <tr>\n",
       "      <th>2020-12-28</th>\n",
       "      <td>1.984699</td>\n",
       "      <td>2.168943</td>\n",
       "      <td>1.9831</td>\n",
       "      <td>2.2471</td>\n",
       "    </tr>\n",
       "    <tr>\n",
       "      <th>2020-12-29</th>\n",
       "      <td>2.071877</td>\n",
       "      <td>2.219403</td>\n",
       "      <td>1.9777</td>\n",
       "      <td>2.1729</td>\n",
       "    </tr>\n",
       "    <tr>\n",
       "      <th>2020-12-30</th>\n",
       "      <td>2.041256</td>\n",
       "      <td>2.185282</td>\n",
       "      <td>1.9591</td>\n",
       "      <td>2.0751</td>\n",
       "    </tr>\n",
       "    <tr>\n",
       "      <th>2020-12-31</th>\n",
       "      <td>1.877029</td>\n",
       "      <td>2.028387</td>\n",
       "      <td>1.9397</td>\n",
       "      <td>2.0238</td>\n",
       "    </tr>\n",
       "    <tr>\n",
       "      <th>2021-01-01</th>\n",
       "      <td>1.862635</td>\n",
       "      <td>2.025456</td>\n",
       "      <td>1.9760</td>\n",
       "      <td>2.1329</td>\n",
       "    </tr>\n",
       "    <tr>\n",
       "      <th>2021-01-02</th>\n",
       "      <td>1.989134</td>\n",
       "      <td>2.149737</td>\n",
       "      <td>1.9500</td>\n",
       "      <td>2.0600</td>\n",
       "    </tr>\n",
       "    <tr>\n",
       "      <th>2021-01-03</th>\n",
       "      <td>1.903279</td>\n",
       "      <td>2.058086</td>\n",
       "      <td>1.9538</td>\n",
       "      <td>2.2300</td>\n",
       "    </tr>\n",
       "    <tr>\n",
       "      <th>2021-01-04</th>\n",
       "      <td>2.002655</td>\n",
       "      <td>2.171657</td>\n",
       "      <td>2.0158</td>\n",
       "      <td>2.3645</td>\n",
       "    </tr>\n",
       "    <tr>\n",
       "      <th>2021-01-05</th>\n",
       "      <td>2.102396</td>\n",
       "      <td>2.278459</td>\n",
       "      <td>2.1361</td>\n",
       "      <td>2.4623</td>\n",
       "    </tr>\n",
       "    <tr>\n",
       "      <th>2021-01-06</th>\n",
       "      <td>2.216879</td>\n",
       "      <td>2.475030</td>\n",
       "      <td>2.2972</td>\n",
       "      <td>2.7455</td>\n",
       "    </tr>\n",
       "    <tr>\n",
       "      <th>2021-01-07</th>\n",
       "      <td>2.358498</td>\n",
       "      <td>2.695934</td>\n",
       "      <td>2.4050</td>\n",
       "      <td>2.8000</td>\n",
       "    </tr>\n",
       "    <tr>\n",
       "      <th>2021-01-08</th>\n",
       "      <td>2.385811</td>\n",
       "      <td>2.754012</td>\n",
       "      <td>2.2500</td>\n",
       "      <td>2.5737</td>\n",
       "    </tr>\n",
       "    <tr>\n",
       "      <th>2021-01-09</th>\n",
       "      <td>2.296120</td>\n",
       "      <td>2.550840</td>\n",
       "      <td>2.4180</td>\n",
       "      <td>2.6984</td>\n",
       "    </tr>\n",
       "    <tr>\n",
       "      <th>2021-01-10</th>\n",
       "      <td>2.424549</td>\n",
       "      <td>2.722957</td>\n",
       "      <td>2.3918</td>\n",
       "      <td>2.9511</td>\n",
       "    </tr>\n",
       "    <tr>\n",
       "      <th>2021-01-11</th>\n",
       "      <td>2.423338</td>\n",
       "      <td>2.795144</td>\n",
       "      <td>2.0583</td>\n",
       "      <td>2.7708</td>\n",
       "    </tr>\n",
       "    <tr>\n",
       "      <th>2021-01-12</th>\n",
       "      <td>2.321829</td>\n",
       "      <td>2.589215</td>\n",
       "      <td>2.1947</td>\n",
       "      <td>2.4521</td>\n",
       "    </tr>\n",
       "    <tr>\n",
       "      <th>2021-01-13</th>\n",
       "      <td>2.284461</td>\n",
       "      <td>2.476030</td>\n",
       "      <td>2.2276</td>\n",
       "      <td>2.5022</td>\n",
       "    </tr>\n",
       "    <tr>\n",
       "      <th>2021-01-14</th>\n",
       "      <td>2.293074</td>\n",
       "      <td>2.457719</td>\n",
       "      <td>2.4061</td>\n",
       "      <td>2.6275</td>\n",
       "    </tr>\n",
       "    <tr>\n",
       "      <th>2021-01-15</th>\n",
       "      <td>2.464454</td>\n",
       "      <td>2.670710</td>\n",
       "      <td>2.4458</td>\n",
       "      <td>2.9000</td>\n",
       "    </tr>\n",
       "    <tr>\n",
       "      <th>2021-01-16</th>\n",
       "      <td>2.465196</td>\n",
       "      <td>2.768103</td>\n",
       "      <td>2.6904</td>\n",
       "      <td>3.1882</td>\n",
       "    </tr>\n",
       "    <tr>\n",
       "      <th>2021-01-17</th>\n",
       "      <td>2.792209</td>\n",
       "      <td>3.080627</td>\n",
       "      <td>2.6851</td>\n",
       "      <td>3.1136</td>\n",
       "    </tr>\n",
       "    <tr>\n",
       "      <th>2021-01-18</th>\n",
       "      <td>2.802947</td>\n",
       "      <td>3.108941</td>\n",
       "      <td>2.8450</td>\n",
       "      <td>3.1175</td>\n",
       "    </tr>\n",
       "    <tr>\n",
       "      <th>2021-01-19</th>\n",
       "      <td>2.847161</td>\n",
       "      <td>3.162109</td>\n",
       "      <td>2.8724</td>\n",
       "      <td>3.2200</td>\n",
       "    </tr>\n",
       "    <tr>\n",
       "      <th>2021-01-20</th>\n",
       "      <td>2.898782</td>\n",
       "      <td>3.171098</td>\n",
       "      <td>2.6444</td>\n",
       "      <td>2.9496</td>\n",
       "    </tr>\n",
       "  </tbody>\n",
       "</table>\n",
       "</div>"
      ],
      "text/plain": [
       "            pred_low  pred_high  real_low  real_high\n",
       "date                                                \n",
       "2020-12-22  2.126595   2.271106    2.0778     2.1952\n",
       "2020-12-23  2.086719   2.190118    1.6000     2.2013\n",
       "2020-12-24  1.977674   2.151569    1.7943     2.0844\n",
       "2020-12-25  1.899219   2.069569    1.9775     2.1148\n",
       "2020-12-26  2.002624   2.153410    1.9252     2.0480\n",
       "2020-12-27  1.858683   2.003528    1.8790     2.1446\n",
       "2020-12-28  1.984699   2.168943    1.9831     2.2471\n",
       "2020-12-29  2.071877   2.219403    1.9777     2.1729\n",
       "2020-12-30  2.041256   2.185282    1.9591     2.0751\n",
       "2020-12-31  1.877029   2.028387    1.9397     2.0238\n",
       "2021-01-01  1.862635   2.025456    1.9760     2.1329\n",
       "2021-01-02  1.989134   2.149737    1.9500     2.0600\n",
       "2021-01-03  1.903279   2.058086    1.9538     2.2300\n",
       "2021-01-04  2.002655   2.171657    2.0158     2.3645\n",
       "2021-01-05  2.102396   2.278459    2.1361     2.4623\n",
       "2021-01-06  2.216879   2.475030    2.2972     2.7455\n",
       "2021-01-07  2.358498   2.695934    2.4050     2.8000\n",
       "2021-01-08  2.385811   2.754012    2.2500     2.5737\n",
       "2021-01-09  2.296120   2.550840    2.4180     2.6984\n",
       "2021-01-10  2.424549   2.722957    2.3918     2.9511\n",
       "2021-01-11  2.423338   2.795144    2.0583     2.7708\n",
       "2021-01-12  2.321829   2.589215    2.1947     2.4521\n",
       "2021-01-13  2.284461   2.476030    2.2276     2.5022\n",
       "2021-01-14  2.293074   2.457719    2.4061     2.6275\n",
       "2021-01-15  2.464454   2.670710    2.4458     2.9000\n",
       "2021-01-16  2.465196   2.768103    2.6904     3.1882\n",
       "2021-01-17  2.792209   3.080627    2.6851     3.1136\n",
       "2021-01-18  2.802947   3.108941    2.8450     3.1175\n",
       "2021-01-19  2.847161   3.162109    2.8724     3.2200\n",
       "2021-01-20  2.898782   3.171098    2.6444     2.9496"
      ]
     },
     "execution_count": 23,
     "metadata": {},
     "output_type": "execute_result"
    }
   ],
   "source": [
    "predictions = pd.DataFrame(predict, columns=['low', 'high'], index=y_test.index)\n",
    "compare = pd.concat([predictions, y_test], axis=1)\n",
    "compare.columns = ['pred_low', 'pred_high', 'real_low', 'real_high']\n",
    "compare"
   ]
  },
  {
   "cell_type": "code",
   "execution_count": 24,
   "metadata": {},
   "outputs": [
    {
     "data": {
      "text/plain": [
       "11"
      ]
     },
     "execution_count": 24,
     "metadata": {},
     "output_type": "execute_result"
    }
   ],
   "source": [
    "len(compare[compare['real_high'] < compare['pred_high']])"
   ]
  },
  {
   "cell_type": "code",
   "execution_count": 25,
   "metadata": {},
   "outputs": [
    {
     "data": {
      "text/plain": [
       "16"
      ]
     },
     "execution_count": 25,
     "metadata": {},
     "output_type": "execute_result"
    }
   ],
   "source": [
    "len(compare[compare['real_low'] < compare['pred_low']])"
   ]
  },
  {
   "cell_type": "markdown",
   "metadata": {},
   "source": [
    "To better see where model error is occuring, I wanted to look line-by-line through the results. Here we see in many cases the actual low is considerably lower than what is predicted. But, the high is often closer to the predictions. Further, we see that in only about 1/3 of our examples is the actual high lower than the predicted high. \n",
    "\n",
    "With this in mind, we should generally assume lower lows and higher highs than our model predicts. Conservatively, we might instead just assume the lower lows (buying multiple times to anticipate the drop) and keep our sale price at the predicted highs. "
   ]
  },
  {
   "cell_type": "markdown",
   "metadata": {},
   "source": [
    "# Hyperparamter Tuning\n",
    "## Sticking with Random Forest"
   ]
  },
  {
   "cell_type": "markdown",
   "metadata": {},
   "source": [
    "While there are various ways we can approach hyperparameter tuning (and many would argue what I'm about to do is the least efficient way), I want to manually work through this for both curiousity and for a desire to be thorough. Further, I recognize that I should be cross-validating, which I might end up doing. For now however, I'll proceed in this more tedious fashion. "
   ]
  },
  {
   "cell_type": "code",
   "execution_count": 26,
   "metadata": {},
   "outputs": [
    {
     "name": "stdout",
     "output_type": "stream",
     "text": [
      "n_estimators = 100 : 0.15095086944637556\n",
      "n_estimators = 110 : 0.1508999204324349\n",
      "n_estimators = 120 : 0.15184071619925532\n",
      "n_estimators = 130 : 0.15236691401631144\n",
      "n_estimators = 140 : 0.15249159333489368\n",
      "n_estimators = 150 : 0.15258562228818953\n",
      "n_estimators = 160 : 0.15215360135599448\n",
      "n_estimators = 170 : 0.15218850745531434\n",
      "n_estimators = 180 : 0.15199893233010112\n",
      "n_estimators = 190 : 0.15190257555553882\n",
      "n_estimators = 200 : 0.1523682073214555\n"
     ]
    }
   ],
   "source": [
    "for estims in range(100, 201, 10):\n",
    "    model = RandomForestRegressor(random_state=47, n_estimators=estims)\n",
    "    model.fit(X_train, y_train)\n",
    "    predict = model.predict(X_test)\n",
    "    rmse = np.sqrt(mean_squared_error(y_test, predict))\n",
    "    print(\"n_estimators =\", estims, \":\", rmse)"
   ]
  },
  {
   "cell_type": "code",
   "execution_count": 27,
   "metadata": {},
   "outputs": [
    {
     "name": "stdout",
     "output_type": "stream",
     "text": [
      "max_depth= 100 : 0.1508999204324349\n",
      "max_depth= 110 : 0.1508999204324349\n",
      "max_depth= 120 : 0.1508999204324349\n",
      "max_depth= 130 : 0.1508999204324349\n",
      "max_depth= 140 : 0.1508999204324349\n",
      "max_depth= 150 : 0.1508999204324349\n",
      "max_depth= 160 : 0.1508999204324349\n",
      "max_depth= 170 : 0.1508999204324349\n",
      "max_depth= 180 : 0.1508999204324349\n",
      "max_depth= 190 : 0.1508999204324349\n",
      "max_depth= 200 : 0.1508999204324349\n"
     ]
    }
   ],
   "source": [
    "for depth in range(100, 201, 10):\n",
    "    model = RandomForestRegressor(random_state=47, n_estimators=110, max_depth=depth)\n",
    "    model.fit(X_train, y_train)\n",
    "    predict = model.predict(X_test)\n",
    "    rmse = np.sqrt(mean_squared_error(y_test, predict))\n",
    "    print(\"max_depth=\", depth, \":\", rmse)"
   ]
  },
  {
   "cell_type": "code",
   "execution_count": 28,
   "metadata": {},
   "outputs": [
    {
     "name": "stdout",
     "output_type": "stream",
     "text": [
      "feature= auto : 0.1508999204324349\n",
      "feature= sqrt : 0.16971653409565254\n",
      "feature= log2 : 0.1735729536444533\n"
     ]
    }
   ],
   "source": [
    "for features in ['auto', 'sqrt', 'log2']:\n",
    "    model = RandomForestRegressor(random_state=47, n_estimators=110, max_depth=100, max_features=features)\n",
    "    model.fit(X_train, y_train)\n",
    "    predict = model.predict(X_test)\n",
    "    rmse = np.sqrt(mean_squared_error(y_test, predict))\n",
    "    print(\"feature=\", features, \":\", rmse)"
   ]
  },
  {
   "cell_type": "code",
   "execution_count": 29,
   "metadata": {},
   "outputs": [
    {
     "name": "stdout",
     "output_type": "stream",
     "text": [
      "splits = 2 : 0.1508999204324349\n",
      "splits = 3 : 0.15348220944794952\n",
      "splits = 4 : 0.15228515181178717\n",
      "splits = 5 : 0.15260532360789236\n",
      "splits = 6 : 0.15381121466730432\n",
      "splits = 7 : 0.15300438613532316\n",
      "splits = 8 : 0.15322962590737924\n",
      "splits = 9 : 0.15487240451691872\n"
     ]
    }
   ],
   "source": [
    "for splits in range(2, 10, 1):\n",
    "    model = RandomForestRegressor(random_state=47, n_estimators=110, max_depth=100, max_features='auto', \n",
    "                                  min_samples_split=splits)\n",
    "    model.fit(X_train, y_train)\n",
    "    predict = model.predict(X_test)\n",
    "    rmse = np.sqrt(mean_squared_error(y_test, predict))\n",
    "    print(\"splits =\", splits, \":\", rmse)"
   ]
  },
  {
   "cell_type": "code",
   "execution_count": 30,
   "metadata": {},
   "outputs": [
    {
     "name": "stdout",
     "output_type": "stream",
     "text": [
      "leaves = 1 : 0.1508999204324349\n",
      "leaves = 2 : 0.15552144375209387\n",
      "leaves = 3 : 0.15806536610831295\n",
      "leaves = 4 : 0.15737496032515066\n",
      "leaves = 5 : 0.15897689964960576\n",
      "leaves = 6 : 0.1578901435437812\n",
      "leaves = 7 : 0.15777442574516407\n",
      "leaves = 8 : 0.15896818620600162\n",
      "leaves = 9 : 0.15925955623449245\n"
     ]
    }
   ],
   "source": [
    "for leaves in range(1, 10, 1):\n",
    "    model = RandomForestRegressor(random_state=47, n_estimators=110, max_depth=100, max_features='auto', \n",
    "                                  min_samples_split=2, min_samples_leaf=leaves)\n",
    "    model.fit(X_train, y_train)\n",
    "    predict = model.predict(X_test)\n",
    "    rmse = np.sqrt(mean_squared_error(y_test, predict))\n",
    "    print(\"leaves =\", leaves, \":\", rmse)"
   ]
  },
  {
   "cell_type": "markdown",
   "metadata": {},
   "source": [
    "Our best model at this point is a RandomForestRegressor with 110 Estimators, 100 max depth, auto features, min_samples_split of 2 and min_samples_leaf of 1. This gives us ~ 0.1509 RMSE. When running a grid search, I find that I cannot beat this, so I will instead check out other models. "
   ]
  },
  {
   "cell_type": "code",
   "execution_count": 31,
   "metadata": {},
   "outputs": [
    {
     "data": {
      "text/plain": [
       "'from sklearn.model_selection import GridSearchCV\\nnp.random.seed(47)\\n\\nmodel = RandomForestRegressor(n_jobs=-1)\\n\\ngs_model = GridSearchCV(estimator=model, param_grid=grid, cv=3, verbose=2)\\n\\ngs_model.fit(X_train, y_train);'"
      ]
     },
     "execution_count": 31,
     "metadata": {},
     "output_type": "execute_result"
    }
   ],
   "source": [
    "'''from sklearn.model_selection import GridSearchCV\n",
    "np.random.seed(47)\n",
    "\n",
    "model = RandomForestRegressor(n_jobs=-1)\n",
    "\n",
    "gs_model = GridSearchCV(estimator=model, param_grid=grid, cv=3, verbose=2)\n",
    "\n",
    "gs_model.fit(X_train, y_train);'''"
   ]
  },
  {
   "cell_type": "code",
   "execution_count": 32,
   "metadata": {},
   "outputs": [
    {
     "data": {
      "text/plain": [
       "\"gs_model.best_params_\\nmodel = RandomForestRegressor(max_depth=None, max_features='auto', min_samples_leaf=5, min_samples_split=3, random_state=47)\\nmodel.fit(X_train, y_train)\\npredict = model.predict(X_test)\\nrmse = np.sqrt(mean_squared_error(y_test, predict))\\nrmse\\nThis model achieved a 0.1592 rmse\""
      ]
     },
     "execution_count": 32,
     "metadata": {},
     "output_type": "execute_result"
    }
   ],
   "source": [
    "\"\"\"gs_model.best_params_\n",
    "model = RandomForestRegressor(max_depth=None, max_features='auto', min_samples_leaf=5, min_samples_split=3, random_state=47)\n",
    "model.fit(X_train, y_train)\n",
    "predict = model.predict(X_test)\n",
    "rmse = np.sqrt(mean_squared_error(y_test, predict))\n",
    "rmse\n",
    "This model achieved a 0.1592 rmse\"\"\""
   ]
  },
  {
   "cell_type": "code",
   "execution_count": 33,
   "metadata": {},
   "outputs": [],
   "source": [
    "model = RandomForestRegressor(random_state=47, n_estimators=110, max_depth=100, max_features='auto', \n",
    "                                  min_samples_split=2)"
   ]
  },
  {
   "cell_type": "code",
   "execution_count": 34,
   "metadata": {},
   "outputs": [
    {
     "data": {
      "text/plain": [
       "0.1508999204324349"
      ]
     },
     "execution_count": 34,
     "metadata": {},
     "output_type": "execute_result"
    }
   ],
   "source": [
    "model.fit(X_train, y_train)\n",
    "predict = model.predict(X_test)\n",
    "rmse = np.sqrt(mean_squared_error(y_test, predict))\n",
    "rmse"
   ]
  },
  {
   "cell_type": "code",
   "execution_count": 35,
   "metadata": {},
   "outputs": [
    {
     "data": {
      "text/html": [
       "<div>\n",
       "<style scoped>\n",
       "    .dataframe tbody tr th:only-of-type {\n",
       "        vertical-align: middle;\n",
       "    }\n",
       "\n",
       "    .dataframe tbody tr th {\n",
       "        vertical-align: top;\n",
       "    }\n",
       "\n",
       "    .dataframe thead th {\n",
       "        text-align: right;\n",
       "    }\n",
       "</style>\n",
       "<table border=\"1\" class=\"dataframe\">\n",
       "  <thead>\n",
       "    <tr style=\"text-align: right;\">\n",
       "      <th></th>\n",
       "      <th>pred_low</th>\n",
       "      <th>pred_high</th>\n",
       "      <th>real_low</th>\n",
       "      <th>real_high</th>\n",
       "    </tr>\n",
       "    <tr>\n",
       "      <th>date</th>\n",
       "      <th></th>\n",
       "      <th></th>\n",
       "      <th></th>\n",
       "      <th></th>\n",
       "    </tr>\n",
       "  </thead>\n",
       "  <tbody>\n",
       "    <tr>\n",
       "      <th>2020-12-22</th>\n",
       "      <td>2.122663</td>\n",
       "      <td>2.266760</td>\n",
       "      <td>2.0778</td>\n",
       "      <td>2.1952</td>\n",
       "    </tr>\n",
       "    <tr>\n",
       "      <th>2020-12-23</th>\n",
       "      <td>2.085475</td>\n",
       "      <td>2.188253</td>\n",
       "      <td>1.6000</td>\n",
       "      <td>2.2013</td>\n",
       "    </tr>\n",
       "    <tr>\n",
       "      <th>2020-12-24</th>\n",
       "      <td>1.974713</td>\n",
       "      <td>2.149753</td>\n",
       "      <td>1.7943</td>\n",
       "      <td>2.0844</td>\n",
       "    </tr>\n",
       "    <tr>\n",
       "      <th>2020-12-25</th>\n",
       "      <td>1.899488</td>\n",
       "      <td>2.067215</td>\n",
       "      <td>1.9775</td>\n",
       "      <td>2.1148</td>\n",
       "    </tr>\n",
       "    <tr>\n",
       "      <th>2020-12-26</th>\n",
       "      <td>2.004187</td>\n",
       "      <td>2.151220</td>\n",
       "      <td>1.9252</td>\n",
       "      <td>2.0480</td>\n",
       "    </tr>\n",
       "    <tr>\n",
       "      <th>2020-12-27</th>\n",
       "      <td>1.858198</td>\n",
       "      <td>2.001672</td>\n",
       "      <td>1.8790</td>\n",
       "      <td>2.1446</td>\n",
       "    </tr>\n",
       "    <tr>\n",
       "      <th>2020-12-28</th>\n",
       "      <td>1.984289</td>\n",
       "      <td>2.167526</td>\n",
       "      <td>1.9831</td>\n",
       "      <td>2.2471</td>\n",
       "    </tr>\n",
       "    <tr>\n",
       "      <th>2020-12-29</th>\n",
       "      <td>2.072323</td>\n",
       "      <td>2.220609</td>\n",
       "      <td>1.9777</td>\n",
       "      <td>2.1729</td>\n",
       "    </tr>\n",
       "    <tr>\n",
       "      <th>2020-12-30</th>\n",
       "      <td>2.038568</td>\n",
       "      <td>2.183256</td>\n",
       "      <td>1.9591</td>\n",
       "      <td>2.0751</td>\n",
       "    </tr>\n",
       "    <tr>\n",
       "      <th>2020-12-31</th>\n",
       "      <td>1.875364</td>\n",
       "      <td>2.026902</td>\n",
       "      <td>1.9397</td>\n",
       "      <td>2.0238</td>\n",
       "    </tr>\n",
       "    <tr>\n",
       "      <th>2021-01-01</th>\n",
       "      <td>1.861857</td>\n",
       "      <td>2.025595</td>\n",
       "      <td>1.9760</td>\n",
       "      <td>2.1329</td>\n",
       "    </tr>\n",
       "    <tr>\n",
       "      <th>2021-01-02</th>\n",
       "      <td>1.986433</td>\n",
       "      <td>2.148659</td>\n",
       "      <td>1.9500</td>\n",
       "      <td>2.0600</td>\n",
       "    </tr>\n",
       "    <tr>\n",
       "      <th>2021-01-03</th>\n",
       "      <td>1.900564</td>\n",
       "      <td>2.055697</td>\n",
       "      <td>1.9538</td>\n",
       "      <td>2.2300</td>\n",
       "    </tr>\n",
       "    <tr>\n",
       "      <th>2021-01-04</th>\n",
       "      <td>2.001753</td>\n",
       "      <td>2.171946</td>\n",
       "      <td>2.0158</td>\n",
       "      <td>2.3645</td>\n",
       "    </tr>\n",
       "    <tr>\n",
       "      <th>2021-01-05</th>\n",
       "      <td>2.102195</td>\n",
       "      <td>2.279215</td>\n",
       "      <td>2.1361</td>\n",
       "      <td>2.4623</td>\n",
       "    </tr>\n",
       "    <tr>\n",
       "      <th>2021-01-06</th>\n",
       "      <td>2.216546</td>\n",
       "      <td>2.476109</td>\n",
       "      <td>2.2972</td>\n",
       "      <td>2.7455</td>\n",
       "    </tr>\n",
       "    <tr>\n",
       "      <th>2021-01-07</th>\n",
       "      <td>2.363133</td>\n",
       "      <td>2.700928</td>\n",
       "      <td>2.4050</td>\n",
       "      <td>2.8000</td>\n",
       "    </tr>\n",
       "    <tr>\n",
       "      <th>2021-01-08</th>\n",
       "      <td>2.388298</td>\n",
       "      <td>2.752190</td>\n",
       "      <td>2.2500</td>\n",
       "      <td>2.5737</td>\n",
       "    </tr>\n",
       "    <tr>\n",
       "      <th>2021-01-09</th>\n",
       "      <td>2.299877</td>\n",
       "      <td>2.555075</td>\n",
       "      <td>2.4180</td>\n",
       "      <td>2.6984</td>\n",
       "    </tr>\n",
       "    <tr>\n",
       "      <th>2021-01-10</th>\n",
       "      <td>2.428979</td>\n",
       "      <td>2.722474</td>\n",
       "      <td>2.3918</td>\n",
       "      <td>2.9511</td>\n",
       "    </tr>\n",
       "    <tr>\n",
       "      <th>2021-01-11</th>\n",
       "      <td>2.427445</td>\n",
       "      <td>2.791114</td>\n",
       "      <td>2.0583</td>\n",
       "      <td>2.7708</td>\n",
       "    </tr>\n",
       "    <tr>\n",
       "      <th>2021-01-12</th>\n",
       "      <td>2.337435</td>\n",
       "      <td>2.600472</td>\n",
       "      <td>2.1947</td>\n",
       "      <td>2.4521</td>\n",
       "    </tr>\n",
       "    <tr>\n",
       "      <th>2021-01-13</th>\n",
       "      <td>2.285876</td>\n",
       "      <td>2.474700</td>\n",
       "      <td>2.2276</td>\n",
       "      <td>2.5022</td>\n",
       "    </tr>\n",
       "    <tr>\n",
       "      <th>2021-01-14</th>\n",
       "      <td>2.293996</td>\n",
       "      <td>2.459808</td>\n",
       "      <td>2.4061</td>\n",
       "      <td>2.6275</td>\n",
       "    </tr>\n",
       "    <tr>\n",
       "      <th>2021-01-15</th>\n",
       "      <td>2.468827</td>\n",
       "      <td>2.674858</td>\n",
       "      <td>2.4458</td>\n",
       "      <td>2.9000</td>\n",
       "    </tr>\n",
       "    <tr>\n",
       "      <th>2021-01-16</th>\n",
       "      <td>2.468501</td>\n",
       "      <td>2.767360</td>\n",
       "      <td>2.6904</td>\n",
       "      <td>3.1882</td>\n",
       "    </tr>\n",
       "    <tr>\n",
       "      <th>2021-01-17</th>\n",
       "      <td>2.795713</td>\n",
       "      <td>3.086739</td>\n",
       "      <td>2.6851</td>\n",
       "      <td>3.1136</td>\n",
       "    </tr>\n",
       "    <tr>\n",
       "      <th>2021-01-18</th>\n",
       "      <td>2.807677</td>\n",
       "      <td>3.116009</td>\n",
       "      <td>2.8450</td>\n",
       "      <td>3.1175</td>\n",
       "    </tr>\n",
       "    <tr>\n",
       "      <th>2021-01-19</th>\n",
       "      <td>2.844826</td>\n",
       "      <td>3.160227</td>\n",
       "      <td>2.8724</td>\n",
       "      <td>3.2200</td>\n",
       "    </tr>\n",
       "    <tr>\n",
       "      <th>2021-01-20</th>\n",
       "      <td>2.897641</td>\n",
       "      <td>3.167895</td>\n",
       "      <td>2.6444</td>\n",
       "      <td>2.9496</td>\n",
       "    </tr>\n",
       "  </tbody>\n",
       "</table>\n",
       "</div>"
      ],
      "text/plain": [
       "            pred_low  pred_high  real_low  real_high\n",
       "date                                                \n",
       "2020-12-22  2.122663   2.266760    2.0778     2.1952\n",
       "2020-12-23  2.085475   2.188253    1.6000     2.2013\n",
       "2020-12-24  1.974713   2.149753    1.7943     2.0844\n",
       "2020-12-25  1.899488   2.067215    1.9775     2.1148\n",
       "2020-12-26  2.004187   2.151220    1.9252     2.0480\n",
       "2020-12-27  1.858198   2.001672    1.8790     2.1446\n",
       "2020-12-28  1.984289   2.167526    1.9831     2.2471\n",
       "2020-12-29  2.072323   2.220609    1.9777     2.1729\n",
       "2020-12-30  2.038568   2.183256    1.9591     2.0751\n",
       "2020-12-31  1.875364   2.026902    1.9397     2.0238\n",
       "2021-01-01  1.861857   2.025595    1.9760     2.1329\n",
       "2021-01-02  1.986433   2.148659    1.9500     2.0600\n",
       "2021-01-03  1.900564   2.055697    1.9538     2.2300\n",
       "2021-01-04  2.001753   2.171946    2.0158     2.3645\n",
       "2021-01-05  2.102195   2.279215    2.1361     2.4623\n",
       "2021-01-06  2.216546   2.476109    2.2972     2.7455\n",
       "2021-01-07  2.363133   2.700928    2.4050     2.8000\n",
       "2021-01-08  2.388298   2.752190    2.2500     2.5737\n",
       "2021-01-09  2.299877   2.555075    2.4180     2.6984\n",
       "2021-01-10  2.428979   2.722474    2.3918     2.9511\n",
       "2021-01-11  2.427445   2.791114    2.0583     2.7708\n",
       "2021-01-12  2.337435   2.600472    2.1947     2.4521\n",
       "2021-01-13  2.285876   2.474700    2.2276     2.5022\n",
       "2021-01-14  2.293996   2.459808    2.4061     2.6275\n",
       "2021-01-15  2.468827   2.674858    2.4458     2.9000\n",
       "2021-01-16  2.468501   2.767360    2.6904     3.1882\n",
       "2021-01-17  2.795713   3.086739    2.6851     3.1136\n",
       "2021-01-18  2.807677   3.116009    2.8450     3.1175\n",
       "2021-01-19  2.844826   3.160227    2.8724     3.2200\n",
       "2021-01-20  2.897641   3.167895    2.6444     2.9496"
      ]
     },
     "execution_count": 35,
     "metadata": {},
     "output_type": "execute_result"
    }
   ],
   "source": [
    "predictions = pd.DataFrame(predict, columns=['low', 'high'], index=y_test.index)\n",
    "compare = pd.concat([predictions, y_test], axis=1)\n",
    "compare.columns = ['pred_low', 'pred_high', 'real_low', 'real_high']\n",
    "compare"
   ]
  },
  {
   "cell_type": "markdown",
   "metadata": {},
   "source": [
    "# Trying Other Models"
   ]
  },
  {
   "cell_type": "markdown",
   "metadata": {},
   "source": [
    "## MultiTask Lasso"
   ]
  },
  {
   "cell_type": "code",
   "execution_count": 36,
   "metadata": {},
   "outputs": [],
   "source": [
    "from sklearn.linear_model import MultiTaskLasso\n",
    "model = MultiTaskLasso(normalize=True, random_state=47, warm_start=True)"
   ]
  },
  {
   "cell_type": "code",
   "execution_count": 37,
   "metadata": {},
   "outputs": [
    {
     "data": {
      "text/plain": [
       "0.44322675047310706"
      ]
     },
     "execution_count": 37,
     "metadata": {},
     "output_type": "execute_result"
    }
   ],
   "source": [
    "model.fit(X_train, y_train)\n",
    "predict = model.predict(X_test)\n",
    "rmse = np.sqrt(mean_squared_error(y_test, predict))\n",
    "rmse"
   ]
  },
  {
   "cell_type": "markdown",
   "metadata": {},
   "source": [
    "## ElasticNet"
   ]
  },
  {
   "cell_type": "code",
   "execution_count": 38,
   "metadata": {},
   "outputs": [],
   "source": [
    "from sklearn.linear_model import ElasticNet\n",
    "model = ElasticNet()"
   ]
  },
  {
   "cell_type": "code",
   "execution_count": 39,
   "metadata": {},
   "outputs": [
    {
     "data": {
      "text/plain": [
       "0.4399830751279508"
      ]
     },
     "execution_count": 39,
     "metadata": {},
     "output_type": "execute_result"
    }
   ],
   "source": [
    "model.fit(X_train, y_train)\n",
    "predict = model.predict(X_test)\n",
    "rmse = np.sqrt(mean_squared_error(y_test, predict))\n",
    "rmse"
   ]
  },
  {
   "cell_type": "markdown",
   "metadata": {},
   "source": [
    "## Ridge"
   ]
  },
  {
   "cell_type": "code",
   "execution_count": 40,
   "metadata": {},
   "outputs": [],
   "source": [
    "from sklearn.linear_model import Ridge\n",
    "model = Ridge()"
   ]
  },
  {
   "cell_type": "code",
   "execution_count": 41,
   "metadata": {
    "scrolled": true
   },
   "outputs": [
    {
     "data": {
      "text/plain": [
       "0.1708339723438454"
      ]
     },
     "execution_count": 41,
     "metadata": {},
     "output_type": "execute_result"
    }
   ],
   "source": [
    "model.fit(X_train, y_train)\n",
    "predict = model.predict(X_test)\n",
    "rmse = np.sqrt(mean_squared_error(y_test, predict))\n",
    "rmse"
   ]
  },
  {
   "cell_type": "code",
   "execution_count": 52,
   "metadata": {},
   "outputs": [
    {
     "data": {
      "text/html": [
       "<div>\n",
       "<style scoped>\n",
       "    .dataframe tbody tr th:only-of-type {\n",
       "        vertical-align: middle;\n",
       "    }\n",
       "\n",
       "    .dataframe tbody tr th {\n",
       "        vertical-align: top;\n",
       "    }\n",
       "\n",
       "    .dataframe thead th {\n",
       "        text-align: right;\n",
       "    }\n",
       "</style>\n",
       "<table border=\"1\" class=\"dataframe\">\n",
       "  <thead>\n",
       "    <tr style=\"text-align: right;\">\n",
       "      <th></th>\n",
       "      <th>pred_low</th>\n",
       "      <th>pred_high</th>\n",
       "      <th>real_low</th>\n",
       "      <th>real_high</th>\n",
       "    </tr>\n",
       "    <tr>\n",
       "      <th>date</th>\n",
       "      <th></th>\n",
       "      <th></th>\n",
       "      <th></th>\n",
       "      <th></th>\n",
       "    </tr>\n",
       "  </thead>\n",
       "  <tbody>\n",
       "    <tr>\n",
       "      <th>2020-12-22</th>\n",
       "      <td>2.095589</td>\n",
       "      <td>2.302515</td>\n",
       "      <td>2.0778</td>\n",
       "      <td>2.1952</td>\n",
       "    </tr>\n",
       "    <tr>\n",
       "      <th>2020-12-23</th>\n",
       "      <td>2.042425</td>\n",
       "      <td>2.207764</td>\n",
       "      <td>1.6000</td>\n",
       "      <td>2.2013</td>\n",
       "    </tr>\n",
       "    <tr>\n",
       "      <th>2020-12-24</th>\n",
       "      <td>1.780355</td>\n",
       "      <td>2.019492</td>\n",
       "      <td>1.7943</td>\n",
       "      <td>2.0844</td>\n",
       "    </tr>\n",
       "    <tr>\n",
       "      <th>2020-12-25</th>\n",
       "      <td>1.877922</td>\n",
       "      <td>2.087707</td>\n",
       "      <td>1.9775</td>\n",
       "      <td>2.1148</td>\n",
       "    </tr>\n",
       "    <tr>\n",
       "      <th>2020-12-26</th>\n",
       "      <td>1.967900</td>\n",
       "      <td>2.148678</td>\n",
       "      <td>1.9252</td>\n",
       "      <td>2.0480</td>\n",
       "    </tr>\n",
       "    <tr>\n",
       "      <th>2020-12-27</th>\n",
       "      <td>1.941926</td>\n",
       "      <td>2.035605</td>\n",
       "      <td>1.8790</td>\n",
       "      <td>2.1446</td>\n",
       "    </tr>\n",
       "    <tr>\n",
       "      <th>2020-12-28</th>\n",
       "      <td>1.962271</td>\n",
       "      <td>2.107331</td>\n",
       "      <td>1.9831</td>\n",
       "      <td>2.2471</td>\n",
       "    </tr>\n",
       "    <tr>\n",
       "      <th>2020-12-29</th>\n",
       "      <td>2.025607</td>\n",
       "      <td>2.229213</td>\n",
       "      <td>1.9777</td>\n",
       "      <td>2.1729</td>\n",
       "    </tr>\n",
       "    <tr>\n",
       "      <th>2020-12-30</th>\n",
       "      <td>2.014394</td>\n",
       "      <td>2.186202</td>\n",
       "      <td>1.9591</td>\n",
       "      <td>2.0751</td>\n",
       "    </tr>\n",
       "    <tr>\n",
       "      <th>2020-12-31</th>\n",
       "      <td>2.021770</td>\n",
       "      <td>2.131301</td>\n",
       "      <td>1.9397</td>\n",
       "      <td>2.0238</td>\n",
       "    </tr>\n",
       "    <tr>\n",
       "      <th>2021-01-01</th>\n",
       "      <td>2.069229</td>\n",
       "      <td>2.069041</td>\n",
       "      <td>1.9760</td>\n",
       "      <td>2.1329</td>\n",
       "    </tr>\n",
       "    <tr>\n",
       "      <th>2021-01-02</th>\n",
       "      <td>2.112873</td>\n",
       "      <td>2.126057</td>\n",
       "      <td>1.9500</td>\n",
       "      <td>2.0600</td>\n",
       "    </tr>\n",
       "    <tr>\n",
       "      <th>2021-01-03</th>\n",
       "      <td>2.077418</td>\n",
       "      <td>2.062860</td>\n",
       "      <td>1.9538</td>\n",
       "      <td>2.2300</td>\n",
       "    </tr>\n",
       "    <tr>\n",
       "      <th>2021-01-04</th>\n",
       "      <td>2.129515</td>\n",
       "      <td>2.234451</td>\n",
       "      <td>2.0158</td>\n",
       "      <td>2.3645</td>\n",
       "    </tr>\n",
       "    <tr>\n",
       "      <th>2021-01-05</th>\n",
       "      <td>2.203484</td>\n",
       "      <td>2.360925</td>\n",
       "      <td>2.1361</td>\n",
       "      <td>2.4623</td>\n",
       "    </tr>\n",
       "    <tr>\n",
       "      <th>2021-01-06</th>\n",
       "      <td>2.295627</td>\n",
       "      <td>2.473333</td>\n",
       "      <td>2.2972</td>\n",
       "      <td>2.7455</td>\n",
       "    </tr>\n",
       "    <tr>\n",
       "      <th>2021-01-07</th>\n",
       "      <td>2.488373</td>\n",
       "      <td>2.713023</td>\n",
       "      <td>2.4050</td>\n",
       "      <td>2.8000</td>\n",
       "    </tr>\n",
       "    <tr>\n",
       "      <th>2021-01-08</th>\n",
       "      <td>2.597378</td>\n",
       "      <td>2.801216</td>\n",
       "      <td>2.2500</td>\n",
       "      <td>2.5737</td>\n",
       "    </tr>\n",
       "    <tr>\n",
       "      <th>2021-01-09</th>\n",
       "      <td>2.434351</td>\n",
       "      <td>2.563010</td>\n",
       "      <td>2.4180</td>\n",
       "      <td>2.6984</td>\n",
       "    </tr>\n",
       "    <tr>\n",
       "      <th>2021-01-10</th>\n",
       "      <td>2.588141</td>\n",
       "      <td>2.708825</td>\n",
       "      <td>2.3918</td>\n",
       "      <td>2.9511</td>\n",
       "    </tr>\n",
       "    <tr>\n",
       "      <th>2021-01-11</th>\n",
       "      <td>2.638855</td>\n",
       "      <td>2.911105</td>\n",
       "      <td>2.0583</td>\n",
       "      <td>2.7708</td>\n",
       "    </tr>\n",
       "    <tr>\n",
       "      <th>2021-01-12</th>\n",
       "      <td>2.412441</td>\n",
       "      <td>2.674106</td>\n",
       "      <td>2.1947</td>\n",
       "      <td>2.4521</td>\n",
       "    </tr>\n",
       "    <tr>\n",
       "      <th>2021-01-13</th>\n",
       "      <td>2.385990</td>\n",
       "      <td>2.514259</td>\n",
       "      <td>2.2276</td>\n",
       "      <td>2.5022</td>\n",
       "    </tr>\n",
       "    <tr>\n",
       "      <th>2021-01-14</th>\n",
       "      <td>2.378273</td>\n",
       "      <td>2.496372</td>\n",
       "      <td>2.4061</td>\n",
       "      <td>2.6275</td>\n",
       "    </tr>\n",
       "    <tr>\n",
       "      <th>2021-01-15</th>\n",
       "      <td>2.537925</td>\n",
       "      <td>2.643130</td>\n",
       "      <td>2.4458</td>\n",
       "      <td>2.9000</td>\n",
       "    </tr>\n",
       "    <tr>\n",
       "      <th>2021-01-16</th>\n",
       "      <td>2.661880</td>\n",
       "      <td>2.824096</td>\n",
       "      <td>2.6904</td>\n",
       "      <td>3.1882</td>\n",
       "    </tr>\n",
       "    <tr>\n",
       "      <th>2021-01-17</th>\n",
       "      <td>2.893981</td>\n",
       "      <td>3.125748</td>\n",
       "      <td>2.6851</td>\n",
       "      <td>3.1136</td>\n",
       "    </tr>\n",
       "    <tr>\n",
       "      <th>2021-01-18</th>\n",
       "      <td>2.864321</td>\n",
       "      <td>3.113432</td>\n",
       "      <td>2.8450</td>\n",
       "      <td>3.1175</td>\n",
       "    </tr>\n",
       "    <tr>\n",
       "      <th>2021-01-19</th>\n",
       "      <td>2.949419</td>\n",
       "      <td>3.173661</td>\n",
       "      <td>2.8724</td>\n",
       "      <td>3.2200</td>\n",
       "    </tr>\n",
       "    <tr>\n",
       "      <th>2021-01-20</th>\n",
       "      <td>2.977649</td>\n",
       "      <td>3.205054</td>\n",
       "      <td>2.6444</td>\n",
       "      <td>2.9496</td>\n",
       "    </tr>\n",
       "  </tbody>\n",
       "</table>\n",
       "</div>"
      ],
      "text/plain": [
       "            pred_low  pred_high  real_low  real_high\n",
       "date                                                \n",
       "2020-12-22  2.095589   2.302515    2.0778     2.1952\n",
       "2020-12-23  2.042425   2.207764    1.6000     2.2013\n",
       "2020-12-24  1.780355   2.019492    1.7943     2.0844\n",
       "2020-12-25  1.877922   2.087707    1.9775     2.1148\n",
       "2020-12-26  1.967900   2.148678    1.9252     2.0480\n",
       "2020-12-27  1.941926   2.035605    1.8790     2.1446\n",
       "2020-12-28  1.962271   2.107331    1.9831     2.2471\n",
       "2020-12-29  2.025607   2.229213    1.9777     2.1729\n",
       "2020-12-30  2.014394   2.186202    1.9591     2.0751\n",
       "2020-12-31  2.021770   2.131301    1.9397     2.0238\n",
       "2021-01-01  2.069229   2.069041    1.9760     2.1329\n",
       "2021-01-02  2.112873   2.126057    1.9500     2.0600\n",
       "2021-01-03  2.077418   2.062860    1.9538     2.2300\n",
       "2021-01-04  2.129515   2.234451    2.0158     2.3645\n",
       "2021-01-05  2.203484   2.360925    2.1361     2.4623\n",
       "2021-01-06  2.295627   2.473333    2.2972     2.7455\n",
       "2021-01-07  2.488373   2.713023    2.4050     2.8000\n",
       "2021-01-08  2.597378   2.801216    2.2500     2.5737\n",
       "2021-01-09  2.434351   2.563010    2.4180     2.6984\n",
       "2021-01-10  2.588141   2.708825    2.3918     2.9511\n",
       "2021-01-11  2.638855   2.911105    2.0583     2.7708\n",
       "2021-01-12  2.412441   2.674106    2.1947     2.4521\n",
       "2021-01-13  2.385990   2.514259    2.2276     2.5022\n",
       "2021-01-14  2.378273   2.496372    2.4061     2.6275\n",
       "2021-01-15  2.537925   2.643130    2.4458     2.9000\n",
       "2021-01-16  2.661880   2.824096    2.6904     3.1882\n",
       "2021-01-17  2.893981   3.125748    2.6851     3.1136\n",
       "2021-01-18  2.864321   3.113432    2.8450     3.1175\n",
       "2021-01-19  2.949419   3.173661    2.8724     3.2200\n",
       "2021-01-20  2.977649   3.205054    2.6444     2.9496"
      ]
     },
     "execution_count": 52,
     "metadata": {},
     "output_type": "execute_result"
    }
   ],
   "source": [
    "predictions = pd.DataFrame(predict, columns=['low', 'high'], index=y_test.index)\n",
    "compare = pd.concat([predictions, y_test], axis=1)\n",
    "compare.columns = ['pred_low', 'pred_high', 'real_low', 'real_high']\n",
    "compare"
   ]
  },
  {
   "cell_type": "markdown",
   "metadata": {},
   "source": [
    "Since Ridge may prove worthy of further exploration, I will attempt some hyperparameter tuning there. If this cannot beat our random forest, we will next look at improvements to our feature engineering that might enhance results. "
   ]
  },
  {
   "cell_type": "code",
   "execution_count": 59,
   "metadata": {},
   "outputs": [
    {
     "name": "stdout",
     "output_type": "stream",
     "text": [
      "alphas = 0.01 : 0.16541239135093028\n",
      "alphas = 0.02 : 0.16537118088988698\n",
      "alphas = 0.03 : 0.16537319363372022\n",
      "alphas = 0.04 : 0.1653939547632697\n",
      "alphas = 0.05 : 0.16542419806960618\n",
      "alphas = 0.060000000000000005 : 0.1654599007220746\n",
      "alphas = 0.06999999999999999 : 0.1654991475537135\n",
      "alphas = 0.08 : 0.16554095914171071\n",
      "alphas = 0.09 : 0.16558480055268116\n"
     ]
    }
   ],
   "source": [
    "for alphas in np.arange(0.01, 0.1, .01):\n",
    "    model = Ridge(random_state=47, alpha=alphas)\n",
    "    model.fit(X_train, y_train)\n",
    "    predict = model.predict(X_test)\n",
    "    rmse = np.sqrt(mean_squared_error(y_test, predict))\n",
    "    print(\"alphas =\", alphas, \":\", rmse)"
   ]
  },
  {
   "cell_type": "code",
   "execution_count": 61,
   "metadata": {},
   "outputs": [
    {
     "name": "stdout",
     "output_type": "stream",
     "text": [
      "0.15571850298293935\n"
     ]
    }
   ],
   "source": [
    "model = Ridge(random_state=47, alpha=0.02, fit_intercept=False)\n",
    "model.fit(X_train, y_train)\n",
    "predict = model.predict(X_test)   \n",
    "rmse = np.sqrt(mean_squared_error(y_test, predict))\n",
    "print(rmse)"
   ]
  },
  {
   "cell_type": "code",
   "execution_count": 67,
   "metadata": {},
   "outputs": [
    {
     "name": "stdout",
     "output_type": "stream",
     "text": [
      "0.16957445606785154\n"
     ]
    }
   ],
   "source": [
    "model = Ridge(random_state=47, alpha=0.02, normalize=True)\n",
    "model.fit(X_train, y_train)\n",
    "predict = model.predict(X_test)   \n",
    "rmse = np.sqrt(mean_squared_error(y_test, predict))\n",
    "print(rmse)"
   ]
  },
  {
   "cell_type": "code",
   "execution_count": 68,
   "metadata": {},
   "outputs": [
    {
     "name": "stdout",
     "output_type": "stream",
     "text": [
      "alphas = 0.2 : 0.15500617105809353\n",
      "alphas = 0.21000000000000002 : 0.15500824710437244\n",
      "alphas = 0.22000000000000003 : 0.15501264923266267\n",
      "alphas = 0.23000000000000004 : 0.1550192409821717\n",
      "alphas = 0.24000000000000005 : 0.15502789547500959\n",
      "alphas = 0.25000000000000006 : 0.15503849447556511\n",
      "alphas = 0.26000000000000006 : 0.15505092759526948\n",
      "alphas = 0.2700000000000001 : 0.15506509160890977\n",
      "alphas = 0.2800000000000001 : 0.155080889859931\n",
      "alphas = 0.2900000000000001 : 0.15509823173692394\n"
     ]
    }
   ],
   "source": [
    "for alphas in np.arange(0.2, .3, .01):\n",
    "    model = Ridge(random_state=47, alpha=alphas, fit_intercept=False)\n",
    "    model.fit(X_train, y_train)\n",
    "    predict = model.predict(X_test)\n",
    "    rmse = np.sqrt(mean_squared_error(y_test, predict))\n",
    "    print(\"alphas =\", alphas, \":\", rmse)"
   ]
  },
  {
   "cell_type": "code",
   "execution_count": 75,
   "metadata": {},
   "outputs": [
    {
     "name": "stdout",
     "output_type": "stream",
     "text": [
      "solver = auto : 0.15500617105809353\n",
      "solver = svd : 0.15500617105818848\n",
      "solver = cholesky : 0.15500617105809353\n",
      "solver = lsqr : 0.1612973699446333\n",
      "solver = sparse_cg : 0.21845047639620313\n",
      "solver = sag : 0.1584596385214715\n",
      "solver = saga : 0.161870239826584\n"
     ]
    }
   ],
   "source": [
    "for solver in ['auto', 'svd', 'cholesky', 'lsqr', 'sparse_cg', 'sag', 'saga']:\n",
    "    model = Ridge(random_state=47, alpha=0.2, fit_intercept=False, solver=solver)\n",
    "    model.fit(X_train, y_train)\n",
    "    predict = model.predict(X_test)\n",
    "    rmse = np.sqrt(mean_squared_error(y_test, predict))\n",
    "    print(\"solver =\", solver, \":\", rmse)"
   ]
  },
  {
   "cell_type": "markdown",
   "metadata": {},
   "source": [
    "While this is far from exhaustive, it seems our best option is still to stick with RandomForestRegressor for our analysis. With that in mind, my next step will be further feature engineering to see if I can improve the accuracy further. "
   ]
  },
  {
   "cell_type": "markdown",
   "metadata": {},
   "source": [
    "# Searching for Best Features\n",
    "## Auto Feature Engineering"
   ]
  },
  {
   "cell_type": "code",
   "execution_count": 44,
   "metadata": {},
   "outputs": [
    {
     "data": {
      "text/plain": [
       "\"df = pd.read_csv('cb_XTZUSD_daily.csv', index_col='date', parse_dates=[0])\\ndf.drop('unix', axis=1, inplace=True)\\ndf.index = pd.to_datetime(df.index)\\ndf.sort_values(by='date', axis=0, inplace=True)\\ndf.head()\""
      ]
     },
     "execution_count": 44,
     "metadata": {},
     "output_type": "execute_result"
    }
   ],
   "source": [
    "'''df = pd.read_csv('cb_XTZUSD_daily.csv', index_col='date', parse_dates=[0])\n",
    "df.drop('unix', axis=1, inplace=True)\n",
    "df.index = pd.to_datetime(df.index)\n",
    "df.sort_values(by='date', axis=0, inplace=True)\n",
    "df.head()'''"
   ]
  },
  {
   "cell_type": "code",
   "execution_count": 45,
   "metadata": {},
   "outputs": [],
   "source": [
    "def find_best_features(data, test_range):\n",
    "    '''Takes a standard pandas dataframe and the amount of units to test. In this way, it sorts through our \n",
    "    make_features() function to find the best possible results without hyperparamter tuning.'''"
   ]
  }
 ],
 "metadata": {
  "kernelspec": {
   "display_name": "Python 3",
   "language": "python",
   "name": "python3"
  },
  "language_info": {
   "codemirror_mode": {
    "name": "ipython",
    "version": 3
   },
   "file_extension": ".py",
   "mimetype": "text/x-python",
   "name": "python",
   "nbconvert_exporter": "python",
   "pygments_lexer": "ipython3",
   "version": "3.8.5"
  }
 },
 "nbformat": 4,
 "nbformat_minor": 4
}
