{
 "cells": [
  {
   "cell_type": "code",
   "execution_count": 1,
   "metadata": {},
   "outputs": [],
   "source": [
    "import pandas as pd\n",
    "import numpy as np\n",
    "import matplotlib.pyplot as plt\n",
    "import requests\n",
    "import json"
   ]
  },
  {
   "cell_type": "code",
   "execution_count": 2,
   "metadata": {},
   "outputs": [],
   "source": [
    "# function courtesy of CryptoDataDownload.com\n",
    "def fetch_daily_data(symbol):\n",
    "    pair_split = symbol.split('/')  # symbol must be in format XXX/XXX ie. BTC/EUR\n",
    "    symbol = pair_split[0] + '-' + pair_split[1]\n",
    "    url = f'https://api.pro.coinbase.com/products/{symbol}/candles?granularity=86400'\n",
    "    response = requests.get(url)\n",
    "    if response.status_code == 200:  # check to make sure the response from server is good\n",
    "        data = pd.DataFrame(json.loads(response.text), columns=['unix', 'low', 'high', 'open', 'close', 'volume'])\n",
    "        data['date'] = pd.to_datetime(data['unix'], unit='s')  # convert to a readable date\n",
    "        data['vol_fiat'] = data['volume'] * data['close']      # multiply the BTC volume by closing price to approximate fiat volume\n",
    "                            \n",
    "        # if we failed to get any data, print an error...otherwise write the file\n",
    "        if data is None:\n",
    "            print(\"Did not return any data from Coinbase for this symbol\")\n",
    "        else:\n",
    "            data.to_csv(f'cb_{pair_split[0] + pair_split[1]}_daily.csv', index=False)\n",
    "    else:\n",
    "        print(\"Did not receieve OK response from Coinbase API\")"
   ]
  },
  {
   "cell_type": "markdown",
   "metadata": {},
   "source": [
    "<strong>Pulling Bitcoin</strong><br>\n",
    "To get a baseline, first working with Bitcoin."
   ]
  },
  {
   "cell_type": "code",
   "execution_count": 3,
   "metadata": {},
   "outputs": [],
   "source": [
    "fetch_daily_data('BTC/USD')"
   ]
  },
  {
   "cell_type": "code",
   "execution_count": 4,
   "metadata": {},
   "outputs": [],
   "source": [
    "btc = pd.read_csv('cb_BTCUSD_daily.csv', index_col='date', parse_dates=[0])"
   ]
  },
  {
   "cell_type": "code",
   "execution_count": 5,
   "metadata": {},
   "outputs": [
    {
     "data": {
      "text/html": [
       "<div>\n",
       "<style scoped>\n",
       "    .dataframe tbody tr th:only-of-type {\n",
       "        vertical-align: middle;\n",
       "    }\n",
       "\n",
       "    .dataframe tbody tr th {\n",
       "        vertical-align: top;\n",
       "    }\n",
       "\n",
       "    .dataframe thead th {\n",
       "        text-align: right;\n",
       "    }\n",
       "</style>\n",
       "<table border=\"1\" class=\"dataframe\">\n",
       "  <thead>\n",
       "    <tr style=\"text-align: right;\">\n",
       "      <th></th>\n",
       "      <th>unix</th>\n",
       "      <th>low</th>\n",
       "      <th>high</th>\n",
       "      <th>open</th>\n",
       "      <th>close</th>\n",
       "      <th>volume</th>\n",
       "      <th>vol_fiat</th>\n",
       "    </tr>\n",
       "    <tr>\n",
       "      <th>date</th>\n",
       "      <th></th>\n",
       "      <th></th>\n",
       "      <th></th>\n",
       "      <th></th>\n",
       "      <th></th>\n",
       "      <th></th>\n",
       "      <th></th>\n",
       "    </tr>\n",
       "  </thead>\n",
       "  <tbody>\n",
       "    <tr>\n",
       "      <th>2021-01-19</th>\n",
       "      <td>1611014400</td>\n",
       "      <td>36200.00</td>\n",
       "      <td>37857.0</td>\n",
       "      <td>36624.23</td>\n",
       "      <td>36726.37</td>\n",
       "      <td>14877.424538</td>\n",
       "      <td>5.463938e+08</td>\n",
       "    </tr>\n",
       "    <tr>\n",
       "      <th>2021-01-18</th>\n",
       "      <td>1610928000</td>\n",
       "      <td>34736.46</td>\n",
       "      <td>37402.0</td>\n",
       "      <td>35820.01</td>\n",
       "      <td>36624.23</td>\n",
       "      <td>16609.641084</td>\n",
       "      <td>6.083153e+08</td>\n",
       "    </tr>\n",
       "    <tr>\n",
       "      <th>2021-01-17</th>\n",
       "      <td>1610841600</td>\n",
       "      <td>33850.03</td>\n",
       "      <td>36860.0</td>\n",
       "      <td>36004.80</td>\n",
       "      <td>35820.00</td>\n",
       "      <td>19182.049347</td>\n",
       "      <td>6.871010e+08</td>\n",
       "    </tr>\n",
       "    <tr>\n",
       "      <th>2021-01-16</th>\n",
       "      <td>1610755200</td>\n",
       "      <td>35372.59</td>\n",
       "      <td>37948.0</td>\n",
       "      <td>36754.60</td>\n",
       "      <td>36006.94</td>\n",
       "      <td>20861.425452</td>\n",
       "      <td>7.511561e+08</td>\n",
       "    </tr>\n",
       "    <tr>\n",
       "      <th>2021-01-15</th>\n",
       "      <td>1610668800</td>\n",
       "      <td>34298.93</td>\n",
       "      <td>39697.0</td>\n",
       "      <td>39123.05</td>\n",
       "      <td>36754.67</td>\n",
       "      <td>36421.059188</td>\n",
       "      <td>1.338644e+09</td>\n",
       "    </tr>\n",
       "  </tbody>\n",
       "</table>\n",
       "</div>"
      ],
      "text/plain": [
       "                  unix       low     high      open     close        volume  \\\n",
       "date                                                                          \n",
       "2021-01-19  1611014400  36200.00  37857.0  36624.23  36726.37  14877.424538   \n",
       "2021-01-18  1610928000  34736.46  37402.0  35820.01  36624.23  16609.641084   \n",
       "2021-01-17  1610841600  33850.03  36860.0  36004.80  35820.00  19182.049347   \n",
       "2021-01-16  1610755200  35372.59  37948.0  36754.60  36006.94  20861.425452   \n",
       "2021-01-15  1610668800  34298.93  39697.0  39123.05  36754.67  36421.059188   \n",
       "\n",
       "                vol_fiat  \n",
       "date                      \n",
       "2021-01-19  5.463938e+08  \n",
       "2021-01-18  6.083153e+08  \n",
       "2021-01-17  6.871010e+08  \n",
       "2021-01-16  7.511561e+08  \n",
       "2021-01-15  1.338644e+09  "
      ]
     },
     "execution_count": 5,
     "metadata": {},
     "output_type": "execute_result"
    }
   ],
   "source": [
    "btc.head()"
   ]
  },
  {
   "cell_type": "code",
   "execution_count": 6,
   "metadata": {},
   "outputs": [],
   "source": [
    "btc.drop('unix', axis=1, inplace=True)"
   ]
  },
  {
   "cell_type": "code",
   "execution_count": 7,
   "metadata": {},
   "outputs": [
    {
     "name": "stdout",
     "output_type": "stream",
     "text": [
      "<class 'pandas.core.frame.DataFrame'>\n",
      "Index: 300 entries, 2021-01-19 to 2020-03-26\n",
      "Data columns (total 6 columns):\n",
      " #   Column    Non-Null Count  Dtype  \n",
      "---  ------    --------------  -----  \n",
      " 0   low       300 non-null    float64\n",
      " 1   high      300 non-null    float64\n",
      " 2   open      300 non-null    float64\n",
      " 3   close     300 non-null    float64\n",
      " 4   volume    300 non-null    float64\n",
      " 5   vol_fiat  300 non-null    float64\n",
      "dtypes: float64(6)\n",
      "memory usage: 16.4+ KB\n"
     ]
    }
   ],
   "source": [
    "btc.info()"
   ]
  },
  {
   "cell_type": "code",
   "execution_count": 8,
   "metadata": {},
   "outputs": [],
   "source": [
    "btc.index = pd.to_datetime(btc.index)"
   ]
  },
  {
   "cell_type": "code",
   "execution_count": 9,
   "metadata": {},
   "outputs": [],
   "source": [
    "btc.sort_values(by='date', axis=0, inplace=True)"
   ]
  },
  {
   "cell_type": "code",
   "execution_count": 10,
   "metadata": {},
   "outputs": [
    {
     "data": {
      "text/html": [
       "<div>\n",
       "<style scoped>\n",
       "    .dataframe tbody tr th:only-of-type {\n",
       "        vertical-align: middle;\n",
       "    }\n",
       "\n",
       "    .dataframe tbody tr th {\n",
       "        vertical-align: top;\n",
       "    }\n",
       "\n",
       "    .dataframe thead th {\n",
       "        text-align: right;\n",
       "    }\n",
       "</style>\n",
       "<table border=\"1\" class=\"dataframe\">\n",
       "  <thead>\n",
       "    <tr style=\"text-align: right;\">\n",
       "      <th></th>\n",
       "      <th>low</th>\n",
       "      <th>high</th>\n",
       "      <th>open</th>\n",
       "      <th>close</th>\n",
       "      <th>volume</th>\n",
       "      <th>vol_fiat</th>\n",
       "    </tr>\n",
       "    <tr>\n",
       "      <th>date</th>\n",
       "      <th></th>\n",
       "      <th></th>\n",
       "      <th></th>\n",
       "      <th></th>\n",
       "      <th></th>\n",
       "      <th></th>\n",
       "    </tr>\n",
       "  </thead>\n",
       "  <tbody>\n",
       "    <tr>\n",
       "      <th>2020-03-26</th>\n",
       "      <td>6520.13</td>\n",
       "      <td>6795.00</td>\n",
       "      <td>6691.71</td>\n",
       "      <td>6758.18</td>\n",
       "      <td>17456.117051</td>\n",
       "      <td>1.179716e+08</td>\n",
       "    </tr>\n",
       "    <tr>\n",
       "      <th>2020-03-27</th>\n",
       "      <td>6260.00</td>\n",
       "      <td>6880.00</td>\n",
       "      <td>6760.00</td>\n",
       "      <td>6372.36</td>\n",
       "      <td>20458.244021</td>\n",
       "      <td>1.303673e+08</td>\n",
       "    </tr>\n",
       "    <tr>\n",
       "      <th>2020-03-28</th>\n",
       "      <td>6030.00</td>\n",
       "      <td>6372.36</td>\n",
       "      <td>6372.36</td>\n",
       "      <td>6251.82</td>\n",
       "      <td>20353.874846</td>\n",
       "      <td>1.272488e+08</td>\n",
       "    </tr>\n",
       "    <tr>\n",
       "      <th>2020-03-29</th>\n",
       "      <td>5870.46</td>\n",
       "      <td>6279.96</td>\n",
       "      <td>6251.45</td>\n",
       "      <td>5877.21</td>\n",
       "      <td>16111.236378</td>\n",
       "      <td>9.468912e+07</td>\n",
       "    </tr>\n",
       "    <tr>\n",
       "      <th>2020-03-30</th>\n",
       "      <td>5853.00</td>\n",
       "      <td>6631.23</td>\n",
       "      <td>5878.98</td>\n",
       "      <td>6406.40</td>\n",
       "      <td>23659.802642</td>\n",
       "      <td>1.515742e+08</td>\n",
       "    </tr>\n",
       "  </tbody>\n",
       "</table>\n",
       "</div>"
      ],
      "text/plain": [
       "                low     high     open    close        volume      vol_fiat\n",
       "date                                                                      \n",
       "2020-03-26  6520.13  6795.00  6691.71  6758.18  17456.117051  1.179716e+08\n",
       "2020-03-27  6260.00  6880.00  6760.00  6372.36  20458.244021  1.303673e+08\n",
       "2020-03-28  6030.00  6372.36  6372.36  6251.82  20353.874846  1.272488e+08\n",
       "2020-03-29  5870.46  6279.96  6251.45  5877.21  16111.236378  9.468912e+07\n",
       "2020-03-30  5853.00  6631.23  5878.98  6406.40  23659.802642  1.515742e+08"
      ]
     },
     "execution_count": 10,
     "metadata": {},
     "output_type": "execute_result"
    }
   ],
   "source": [
    "btc.head()"
   ]
  },
  {
   "cell_type": "markdown",
   "metadata": {},
   "source": [
    "# Feature Engineering\n",
    "Here we are designing our features to better predict the price."
   ]
  },
  {
   "cell_type": "code",
   "execution_count": 11,
   "metadata": {},
   "outputs": [],
   "source": [
    "def make_features(data, max_lag):\n",
    "    #data['%change'] = (1 - (data['high'] / data['low'])) * -1\n",
    "    #data['month'] = data.index.month\n",
    "    data['dayofweek'] = data.index.dayofweek\n",
    "    data['week_low_mean'] = data['low'].shift().rolling(7).mean()\n",
    "    data['week_high_mean'] = data['high'].shift().rolling(7).mean()\n",
    "    #data['month_low_mean'] = data['low'].shift().rolling(30).mean()\n",
    "    #data['month_high_mean'] = data['high'].shift().rolling(30).mean()\n",
    "    for lag in range(1, max_lag + 1):\n",
    "        data['high_lag_{}'.format(lag)] = data['high'].shift(lag)\n",
    "    for lag in range(1, max_lag + 1):\n",
    "        data['low_lag_{}'.format(lag)] = data['low'].shift(lag)\n",
    "    #for lag in range(1, max_lag + 1):\n",
    "     #   data['change_lag_{}'.format(lag)] = data['%change'].shift(lag)"
   ]
  },
  {
   "cell_type": "code",
   "execution_count": 12,
   "metadata": {},
   "outputs": [],
   "source": [
    "make_features(btc, 14)"
   ]
  },
  {
   "cell_type": "code",
   "execution_count": 13,
   "metadata": {},
   "outputs": [
    {
     "data": {
      "text/html": [
       "<div>\n",
       "<style scoped>\n",
       "    .dataframe tbody tr th:only-of-type {\n",
       "        vertical-align: middle;\n",
       "    }\n",
       "\n",
       "    .dataframe tbody tr th {\n",
       "        vertical-align: top;\n",
       "    }\n",
       "\n",
       "    .dataframe thead th {\n",
       "        text-align: right;\n",
       "    }\n",
       "</style>\n",
       "<table border=\"1\" class=\"dataframe\">\n",
       "  <thead>\n",
       "    <tr style=\"text-align: right;\">\n",
       "      <th></th>\n",
       "      <th>low</th>\n",
       "      <th>high</th>\n",
       "      <th>open</th>\n",
       "      <th>close</th>\n",
       "      <th>volume</th>\n",
       "      <th>vol_fiat</th>\n",
       "      <th>dayofweek</th>\n",
       "      <th>week_low_mean</th>\n",
       "      <th>week_high_mean</th>\n",
       "      <th>high_lag_1</th>\n",
       "      <th>...</th>\n",
       "      <th>low_lag_5</th>\n",
       "      <th>low_lag_6</th>\n",
       "      <th>low_lag_7</th>\n",
       "      <th>low_lag_8</th>\n",
       "      <th>low_lag_9</th>\n",
       "      <th>low_lag_10</th>\n",
       "      <th>low_lag_11</th>\n",
       "      <th>low_lag_12</th>\n",
       "      <th>low_lag_13</th>\n",
       "      <th>low_lag_14</th>\n",
       "    </tr>\n",
       "    <tr>\n",
       "      <th>date</th>\n",
       "      <th></th>\n",
       "      <th></th>\n",
       "      <th></th>\n",
       "      <th></th>\n",
       "      <th></th>\n",
       "      <th></th>\n",
       "      <th></th>\n",
       "      <th></th>\n",
       "      <th></th>\n",
       "      <th></th>\n",
       "      <th></th>\n",
       "      <th></th>\n",
       "      <th></th>\n",
       "      <th></th>\n",
       "      <th></th>\n",
       "      <th></th>\n",
       "      <th></th>\n",
       "      <th></th>\n",
       "      <th></th>\n",
       "      <th></th>\n",
       "      <th></th>\n",
       "    </tr>\n",
       "  </thead>\n",
       "  <tbody>\n",
       "    <tr>\n",
       "      <th>2021-01-15</th>\n",
       "      <td>34298.93</td>\n",
       "      <td>39697.0</td>\n",
       "      <td>39123.05</td>\n",
       "      <td>36754.67</td>\n",
       "      <td>36421.059188</td>\n",
       "      <td>1.338644e+09</td>\n",
       "      <td>4</td>\n",
       "      <td>34495.604286</td>\n",
       "      <td>39677.068571</td>\n",
       "      <td>40127.66</td>\n",
       "      <td>...</td>\n",
       "      <td>34444.00</td>\n",
       "      <td>38800.00</td>\n",
       "      <td>36565.08</td>\n",
       "      <td>36200.00</td>\n",
       "      <td>33352.54</td>\n",
       "      <td>29891.13</td>\n",
       "      <td>27678.00</td>\n",
       "      <td>32008.62</td>\n",
       "      <td>29039.00</td>\n",
       "      <td>28700.00</td>\n",
       "    </tr>\n",
       "    <tr>\n",
       "      <th>2021-01-16</th>\n",
       "      <td>35372.59</td>\n",
       "      <td>37948.0</td>\n",
       "      <td>36754.60</td>\n",
       "      <td>36006.94</td>\n",
       "      <td>20861.425452</td>\n",
       "      <td>7.511561e+08</td>\n",
       "      <td>5</td>\n",
       "      <td>34171.868571</td>\n",
       "      <td>39350.015714</td>\n",
       "      <td>39697.00</td>\n",
       "      <td>...</td>\n",
       "      <td>30100.00</td>\n",
       "      <td>34444.00</td>\n",
       "      <td>38800.00</td>\n",
       "      <td>36565.08</td>\n",
       "      <td>36200.00</td>\n",
       "      <td>33352.54</td>\n",
       "      <td>29891.13</td>\n",
       "      <td>27678.00</td>\n",
       "      <td>32008.62</td>\n",
       "      <td>29039.00</td>\n",
       "    </tr>\n",
       "    <tr>\n",
       "      <th>2021-01-17</th>\n",
       "      <td>33850.03</td>\n",
       "      <td>36860.0</td>\n",
       "      <td>36004.80</td>\n",
       "      <td>35820.00</td>\n",
       "      <td>19182.049347</td>\n",
       "      <td>6.871010e+08</td>\n",
       "      <td>6</td>\n",
       "      <td>33682.238571</td>\n",
       "      <td>38855.881429</td>\n",
       "      <td>37948.00</td>\n",
       "      <td>...</td>\n",
       "      <td>32500.00</td>\n",
       "      <td>30100.00</td>\n",
       "      <td>34444.00</td>\n",
       "      <td>38800.00</td>\n",
       "      <td>36565.08</td>\n",
       "      <td>36200.00</td>\n",
       "      <td>33352.54</td>\n",
       "      <td>29891.13</td>\n",
       "      <td>27678.00</td>\n",
       "      <td>32008.62</td>\n",
       "    </tr>\n",
       "    <tr>\n",
       "      <th>2021-01-18</th>\n",
       "      <td>34736.46</td>\n",
       "      <td>37402.0</td>\n",
       "      <td>35820.01</td>\n",
       "      <td>36624.23</td>\n",
       "      <td>16609.641084</td>\n",
       "      <td>6.083153e+08</td>\n",
       "      <td>0</td>\n",
       "      <td>33597.385714</td>\n",
       "      <td>38199.864286</td>\n",
       "      <td>36860.00</td>\n",
       "      <td>...</td>\n",
       "      <td>32309.04</td>\n",
       "      <td>32500.00</td>\n",
       "      <td>30100.00</td>\n",
       "      <td>34444.00</td>\n",
       "      <td>38800.00</td>\n",
       "      <td>36565.08</td>\n",
       "      <td>36200.00</td>\n",
       "      <td>33352.54</td>\n",
       "      <td>29891.13</td>\n",
       "      <td>27678.00</td>\n",
       "    </tr>\n",
       "    <tr>\n",
       "      <th>2021-01-19</th>\n",
       "      <td>36200.00</td>\n",
       "      <td>37857.0</td>\n",
       "      <td>36624.23</td>\n",
       "      <td>36726.37</td>\n",
       "      <td>14877.424538</td>\n",
       "      <td>5.463938e+08</td>\n",
       "      <td>1</td>\n",
       "      <td>34259.737143</td>\n",
       "      <td>38075.310000</td>\n",
       "      <td>37402.00</td>\n",
       "      <td>...</td>\n",
       "      <td>36751.11</td>\n",
       "      <td>32309.04</td>\n",
       "      <td>32500.00</td>\n",
       "      <td>30100.00</td>\n",
       "      <td>34444.00</td>\n",
       "      <td>38800.00</td>\n",
       "      <td>36565.08</td>\n",
       "      <td>36200.00</td>\n",
       "      <td>33352.54</td>\n",
       "      <td>29891.13</td>\n",
       "    </tr>\n",
       "  </tbody>\n",
       "</table>\n",
       "<p>5 rows × 37 columns</p>\n",
       "</div>"
      ],
      "text/plain": [
       "                 low     high      open     close        volume      vol_fiat  \\\n",
       "date                                                                            \n",
       "2021-01-15  34298.93  39697.0  39123.05  36754.67  36421.059188  1.338644e+09   \n",
       "2021-01-16  35372.59  37948.0  36754.60  36006.94  20861.425452  7.511561e+08   \n",
       "2021-01-17  33850.03  36860.0  36004.80  35820.00  19182.049347  6.871010e+08   \n",
       "2021-01-18  34736.46  37402.0  35820.01  36624.23  16609.641084  6.083153e+08   \n",
       "2021-01-19  36200.00  37857.0  36624.23  36726.37  14877.424538  5.463938e+08   \n",
       "\n",
       "            dayofweek  week_low_mean  week_high_mean  high_lag_1  ...  \\\n",
       "date                                                              ...   \n",
       "2021-01-15          4   34495.604286    39677.068571    40127.66  ...   \n",
       "2021-01-16          5   34171.868571    39350.015714    39697.00  ...   \n",
       "2021-01-17          6   33682.238571    38855.881429    37948.00  ...   \n",
       "2021-01-18          0   33597.385714    38199.864286    36860.00  ...   \n",
       "2021-01-19          1   34259.737143    38075.310000    37402.00  ...   \n",
       "\n",
       "            low_lag_5  low_lag_6  low_lag_7  low_lag_8  low_lag_9  low_lag_10  \\\n",
       "date                                                                            \n",
       "2021-01-15   34444.00   38800.00   36565.08   36200.00   33352.54    29891.13   \n",
       "2021-01-16   30100.00   34444.00   38800.00   36565.08   36200.00    33352.54   \n",
       "2021-01-17   32500.00   30100.00   34444.00   38800.00   36565.08    36200.00   \n",
       "2021-01-18   32309.04   32500.00   30100.00   34444.00   38800.00    36565.08   \n",
       "2021-01-19   36751.11   32309.04   32500.00   30100.00   34444.00    38800.00   \n",
       "\n",
       "            low_lag_11  low_lag_12  low_lag_13  low_lag_14  \n",
       "date                                                        \n",
       "2021-01-15    27678.00    32008.62    29039.00    28700.00  \n",
       "2021-01-16    29891.13    27678.00    32008.62    29039.00  \n",
       "2021-01-17    33352.54    29891.13    27678.00    32008.62  \n",
       "2021-01-18    36200.00    33352.54    29891.13    27678.00  \n",
       "2021-01-19    36565.08    36200.00    33352.54    29891.13  \n",
       "\n",
       "[5 rows x 37 columns]"
      ]
     },
     "execution_count": 13,
     "metadata": {},
     "output_type": "execute_result"
    }
   ],
   "source": [
    "btc.tail()"
   ]
  },
  {
   "cell_type": "code",
   "execution_count": 14,
   "metadata": {},
   "outputs": [
    {
     "data": {
      "text/plain": [
       "Index(['low', 'high', 'open', 'close', 'volume', 'vol_fiat', 'dayofweek',\n",
       "       'week_low_mean', 'week_high_mean', 'high_lag_1', 'high_lag_2',\n",
       "       'high_lag_3', 'high_lag_4', 'high_lag_5', 'high_lag_6', 'high_lag_7',\n",
       "       'high_lag_8', 'high_lag_9', 'high_lag_10', 'high_lag_11', 'high_lag_12',\n",
       "       'high_lag_13', 'high_lag_14', 'low_lag_1', 'low_lag_2', 'low_lag_3',\n",
       "       'low_lag_4', 'low_lag_5', 'low_lag_6', 'low_lag_7', 'low_lag_8',\n",
       "       'low_lag_9', 'low_lag_10', 'low_lag_11', 'low_lag_12', 'low_lag_13',\n",
       "       'low_lag_14'],\n",
       "      dtype='object')"
      ]
     },
     "execution_count": 14,
     "metadata": {},
     "output_type": "execute_result"
    }
   ],
   "source": [
    "btc.columns"
   ]
  },
  {
   "cell_type": "code",
   "execution_count": 15,
   "metadata": {},
   "outputs": [],
   "source": [
    "# Since we are trying to predict, many columns in here are not necessary and could impede our model\n",
    "btc.drop(['vol_fiat', 'volume', 'close', 'open'], axis=1, inplace=True)"
   ]
  },
  {
   "cell_type": "code",
   "execution_count": 16,
   "metadata": {},
   "outputs": [
    {
     "data": {
      "text/plain": [
       "Index(['low', 'high', 'dayofweek', 'week_low_mean', 'week_high_mean',\n",
       "       'high_lag_1', 'high_lag_2', 'high_lag_3', 'high_lag_4', 'high_lag_5',\n",
       "       'high_lag_6', 'high_lag_7', 'high_lag_8', 'high_lag_9', 'high_lag_10',\n",
       "       'high_lag_11', 'high_lag_12', 'high_lag_13', 'high_lag_14', 'low_lag_1',\n",
       "       'low_lag_2', 'low_lag_3', 'low_lag_4', 'low_lag_5', 'low_lag_6',\n",
       "       'low_lag_7', 'low_lag_8', 'low_lag_9', 'low_lag_10', 'low_lag_11',\n",
       "       'low_lag_12', 'low_lag_13', 'low_lag_14'],\n",
       "      dtype='object')"
      ]
     },
     "execution_count": 16,
     "metadata": {},
     "output_type": "execute_result"
    }
   ],
   "source": [
    "btc.columns"
   ]
  },
  {
   "cell_type": "markdown",
   "metadata": {},
   "source": [
    "# Preparing Data for Model"
   ]
  },
  {
   "cell_type": "code",
   "execution_count": 17,
   "metadata": {},
   "outputs": [],
   "source": [
    "from sklearn.ensemble import RandomForestRegressor\n",
    "from sklearn.model_selection import train_test_split\n",
    "from sklearn.metrics import mean_squared_error"
   ]
  },
  {
   "cell_type": "code",
   "execution_count": 18,
   "metadata": {},
   "outputs": [],
   "source": [
    "train, test = train_test_split(btc, shuffle=False, test_size=0.1)\n",
    "train = train.dropna()"
   ]
  },
  {
   "cell_type": "code",
   "execution_count": 19,
   "metadata": {},
   "outputs": [],
   "source": [
    "X_train = train.drop(['low', 'high'], axis=1)\n",
    "X_test = test.drop(['low', 'high'], axis=1)\n",
    "y_train = train[['low', 'high']]\n",
    "y_test = test[['low', 'high']]"
   ]
  },
  {
   "cell_type": "code",
   "execution_count": 20,
   "metadata": {},
   "outputs": [],
   "source": [
    "model = RandomForestRegressor(random_state=47)"
   ]
  },
  {
   "cell_type": "code",
   "execution_count": 21,
   "metadata": {},
   "outputs": [],
   "source": [
    "model.fit(X_train, y_train)\n",
    "predict = model.predict(X_test)"
   ]
  },
  {
   "cell_type": "code",
   "execution_count": 22,
   "metadata": {},
   "outputs": [
    {
     "data": {
      "text/plain": [
       "10462.799786584246"
      ]
     },
     "execution_count": 22,
     "metadata": {},
     "output_type": "execute_result"
    }
   ],
   "source": [
    "rmse = np.sqrt(mean_squared_error(y_test, predict))\n",
    "rmse"
   ]
  },
  {
   "cell_type": "code",
   "execution_count": 23,
   "metadata": {},
   "outputs": [
    {
     "data": {
      "text/plain": [
       "array([[22055.7383, 23435.9814],\n",
       "       [21636.5543, 23053.3662],\n",
       "       [21395.072 , 22939.3682],\n",
       "       [21409.3181, 22902.2655],\n",
       "       [21623.5753, 22983.0153],\n",
       "       [21981.1719, 23493.6829],\n",
       "       [22271.8516, 23779.205 ],\n",
       "       [21997.4022, 23642.9184],\n",
       "       [22019.9822, 23649.819 ],\n",
       "       [22019.9822, 23649.819 ],\n",
       "       [22095.9822, 23704.4202],\n",
       "       [22132.7019, 23698.712 ],\n",
       "       [22170.7019, 23726.0126],\n",
       "       [22203.4918, 23743.4432],\n",
       "       [22019.9822, 23649.819 ],\n",
       "       [22019.9822, 23649.819 ],\n",
       "       [22019.9822, 23649.819 ],\n",
       "       [22095.9822, 23704.4202],\n",
       "       [22132.7019, 23698.712 ],\n",
       "       [22170.7019, 23726.0126],\n",
       "       [22203.4918, 23743.4432],\n",
       "       [22019.9822, 23649.819 ],\n",
       "       [22019.9822, 23649.819 ],\n",
       "       [22019.9822, 23649.819 ],\n",
       "       [22095.9822, 23704.4202],\n",
       "       [22132.7019, 23698.712 ],\n",
       "       [22170.7019, 23726.0126],\n",
       "       [22203.4918, 23743.4432],\n",
       "       [22019.9822, 23649.819 ],\n",
       "       [22019.9822, 23649.819 ]])"
      ]
     },
     "execution_count": 23,
     "metadata": {},
     "output_type": "execute_result"
    }
   ],
   "source": [
    "predict"
   ]
  },
  {
   "cell_type": "code",
   "execution_count": null,
   "metadata": {},
   "outputs": [],
   "source": []
  },
  {
   "cell_type": "code",
   "execution_count": null,
   "metadata": {},
   "outputs": [],
   "source": []
  }
 ],
 "metadata": {
  "kernelspec": {
   "display_name": "Python 3",
   "language": "python",
   "name": "python3"
  },
  "language_info": {
   "codemirror_mode": {
    "name": "ipython",
    "version": 3
   },
   "file_extension": ".py",
   "mimetype": "text/x-python",
   "name": "python",
   "nbconvert_exporter": "python",
   "pygments_lexer": "ipython3",
   "version": "3.8.5"
  }
 },
 "nbformat": 4,
 "nbformat_minor": 4
}
