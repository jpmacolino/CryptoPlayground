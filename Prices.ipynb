{
 "cells": [
  {
   "cell_type": "code",
   "execution_count": 1,
   "metadata": {},
   "outputs": [],
   "source": [
    "import pandas as pd\n",
    "import numpy as np\n",
    "import matplotlib.pyplot as plt\n",
    "import requests\n",
    "import json"
   ]
  },
  {
   "cell_type": "code",
   "execution_count": 2,
   "metadata": {},
   "outputs": [],
   "source": [
    "# function courtesy of CryptoDataDownload.com\n",
    "def fetch_daily_data(symbol):\n",
    "    pair_split = symbol.split('/')  # symbol must be in format XXX/XXX ie. BTC/EUR\n",
    "    symbol = pair_split[0] + '-' + pair_split[1]\n",
    "    url = f'https://api.pro.coinbase.com/products/{symbol}/candles?granularity=86400'\n",
    "    response = requests.get(url)\n",
    "    if response.status_code == 200:  # check to make sure the response from server is good\n",
    "        data = pd.DataFrame(json.loads(response.text), columns=['unix', 'low', 'high', 'open', 'close', 'volume'])\n",
    "        data['date'] = pd.to_datetime(data['unix'], unit='s')  # convert to a readable date\n",
    "        data['vol_fiat'] = data['volume'] * data['close']      # multiply the BTC volume by closing price to approximate fiat volume\n",
    "                            \n",
    "        # if we failed to get any data, print an error...otherwise write the file\n",
    "        if data is None:\n",
    "            print(\"Did not return any data from Coinbase for this symbol\")\n",
    "        else:\n",
    "            data.to_csv(f'cb_{pair_split[0] + pair_split[1]}_daily.csv', index=False)\n",
    "    else:\n",
    "        print(\"Did not receieve OK response from Coinbase API\")"
   ]
  },
  {
   "cell_type": "code",
   "execution_count": 3,
   "metadata": {},
   "outputs": [],
   "source": [
    "fetch_daily_data('BTC/USD')"
   ]
  },
  {
   "cell_type": "code",
   "execution_count": 4,
   "metadata": {},
   "outputs": [],
   "source": [
    "btc = pd.read_csv('cb_BTCUSD_daily.csv')"
   ]
  },
  {
   "cell_type": "code",
   "execution_count": 5,
   "metadata": {},
   "outputs": [
    {
     "data": {
      "text/html": [
       "<div>\n",
       "<style scoped>\n",
       "    .dataframe tbody tr th:only-of-type {\n",
       "        vertical-align: middle;\n",
       "    }\n",
       "\n",
       "    .dataframe tbody tr th {\n",
       "        vertical-align: top;\n",
       "    }\n",
       "\n",
       "    .dataframe thead th {\n",
       "        text-align: right;\n",
       "    }\n",
       "</style>\n",
       "<table border=\"1\" class=\"dataframe\">\n",
       "  <thead>\n",
       "    <tr style=\"text-align: right;\">\n",
       "      <th></th>\n",
       "      <th>unix</th>\n",
       "      <th>low</th>\n",
       "      <th>high</th>\n",
       "      <th>open</th>\n",
       "      <th>close</th>\n",
       "      <th>volume</th>\n",
       "      <th>date</th>\n",
       "      <th>vol_fiat</th>\n",
       "    </tr>\n",
       "  </thead>\n",
       "  <tbody>\n",
       "    <tr>\n",
       "      <th>0</th>\n",
       "      <td>1610323200</td>\n",
       "      <td>30100.00</td>\n",
       "      <td>38273.88</td>\n",
       "      <td>38168.89</td>\n",
       "      <td>33224.28</td>\n",
       "      <td>81810.142934</td>\n",
       "      <td>2021-01-11</td>\n",
       "      <td>2.718083e+09</td>\n",
       "    </tr>\n",
       "    <tr>\n",
       "      <th>1</th>\n",
       "      <td>1610236800</td>\n",
       "      <td>34444.00</td>\n",
       "      <td>41452.12</td>\n",
       "      <td>40257.43</td>\n",
       "      <td>38171.57</td>\n",
       "      <td>43736.570316</td>\n",
       "      <td>2021-01-10</td>\n",
       "      <td>1.669494e+09</td>\n",
       "    </tr>\n",
       "    <tr>\n",
       "      <th>2</th>\n",
       "      <td>1610150400</td>\n",
       "      <td>38800.00</td>\n",
       "      <td>41406.94</td>\n",
       "      <td>40642.15</td>\n",
       "      <td>40257.43</td>\n",
       "      <td>27152.971029</td>\n",
       "      <td>2021-01-09</td>\n",
       "      <td>1.093109e+09</td>\n",
       "    </tr>\n",
       "    <tr>\n",
       "      <th>3</th>\n",
       "      <td>1610064000</td>\n",
       "      <td>36565.08</td>\n",
       "      <td>41986.37</td>\n",
       "      <td>39510.55</td>\n",
       "      <td>40665.15</td>\n",
       "      <td>48522.484903</td>\n",
       "      <td>2021-01-08</td>\n",
       "      <td>1.973174e+09</td>\n",
       "    </tr>\n",
       "    <tr>\n",
       "      <th>4</th>\n",
       "      <td>1609977600</td>\n",
       "      <td>36200.00</td>\n",
       "      <td>40425.00</td>\n",
       "      <td>36859.26</td>\n",
       "      <td>39505.56</td>\n",
       "      <td>50346.305691</td>\n",
       "      <td>2021-01-07</td>\n",
       "      <td>1.988959e+09</td>\n",
       "    </tr>\n",
       "  </tbody>\n",
       "</table>\n",
       "</div>"
      ],
      "text/plain": [
       "         unix       low      high      open     close        volume  \\\n",
       "0  1610323200  30100.00  38273.88  38168.89  33224.28  81810.142934   \n",
       "1  1610236800  34444.00  41452.12  40257.43  38171.57  43736.570316   \n",
       "2  1610150400  38800.00  41406.94  40642.15  40257.43  27152.971029   \n",
       "3  1610064000  36565.08  41986.37  39510.55  40665.15  48522.484903   \n",
       "4  1609977600  36200.00  40425.00  36859.26  39505.56  50346.305691   \n",
       "\n",
       "         date      vol_fiat  \n",
       "0  2021-01-11  2.718083e+09  \n",
       "1  2021-01-10  1.669494e+09  \n",
       "2  2021-01-09  1.093109e+09  \n",
       "3  2021-01-08  1.973174e+09  \n",
       "4  2021-01-07  1.988959e+09  "
      ]
     },
     "execution_count": 5,
     "metadata": {},
     "output_type": "execute_result"
    }
   ],
   "source": [
    "btc.head()"
   ]
  },
  {
   "cell_type": "code",
   "execution_count": 6,
   "metadata": {},
   "outputs": [],
   "source": [
    "btc.drop('unix', axis=1, inplace=True)"
   ]
  },
  {
   "cell_type": "code",
   "execution_count": 8,
   "metadata": {},
   "outputs": [],
   "source": [
    "btc['date'] = pd.to_datetime(btc['date'])"
   ]
  },
  {
   "cell_type": "code",
   "execution_count": 9,
   "metadata": {},
   "outputs": [
    {
     "name": "stdout",
     "output_type": "stream",
     "text": [
      "<class 'pandas.core.frame.DataFrame'>\n",
      "RangeIndex: 300 entries, 0 to 299\n",
      "Data columns (total 7 columns):\n",
      " #   Column    Non-Null Count  Dtype         \n",
      "---  ------    --------------  -----         \n",
      " 0   low       300 non-null    float64       \n",
      " 1   high      300 non-null    float64       \n",
      " 2   open      300 non-null    float64       \n",
      " 3   close     300 non-null    float64       \n",
      " 4   volume    300 non-null    float64       \n",
      " 5   date      300 non-null    datetime64[ns]\n",
      " 6   vol_fiat  300 non-null    float64       \n",
      "dtypes: datetime64[ns](1), float64(6)\n",
      "memory usage: 16.5 KB\n"
     ]
    }
   ],
   "source": [
    "btc.info()"
   ]
  },
  {
   "cell_type": "code",
   "execution_count": 10,
   "metadata": {},
   "outputs": [],
   "source": [
    "btc.set_index('date', inplace=True)"
   ]
  },
  {
   "cell_type": "code",
   "execution_count": 11,
   "metadata": {},
   "outputs": [
    {
     "data": {
      "text/html": [
       "<div>\n",
       "<style scoped>\n",
       "    .dataframe tbody tr th:only-of-type {\n",
       "        vertical-align: middle;\n",
       "    }\n",
       "\n",
       "    .dataframe tbody tr th {\n",
       "        vertical-align: top;\n",
       "    }\n",
       "\n",
       "    .dataframe thead th {\n",
       "        text-align: right;\n",
       "    }\n",
       "</style>\n",
       "<table border=\"1\" class=\"dataframe\">\n",
       "  <thead>\n",
       "    <tr style=\"text-align: right;\">\n",
       "      <th></th>\n",
       "      <th>low</th>\n",
       "      <th>high</th>\n",
       "      <th>open</th>\n",
       "      <th>close</th>\n",
       "      <th>volume</th>\n",
       "      <th>vol_fiat</th>\n",
       "    </tr>\n",
       "    <tr>\n",
       "      <th>date</th>\n",
       "      <th></th>\n",
       "      <th></th>\n",
       "      <th></th>\n",
       "      <th></th>\n",
       "      <th></th>\n",
       "      <th></th>\n",
       "    </tr>\n",
       "  </thead>\n",
       "  <tbody>\n",
       "    <tr>\n",
       "      <th>2021-01-11</th>\n",
       "      <td>30100.00</td>\n",
       "      <td>38273.88</td>\n",
       "      <td>38168.89</td>\n",
       "      <td>33224.28</td>\n",
       "      <td>81810.142934</td>\n",
       "      <td>2.718083e+09</td>\n",
       "    </tr>\n",
       "    <tr>\n",
       "      <th>2021-01-10</th>\n",
       "      <td>34444.00</td>\n",
       "      <td>41452.12</td>\n",
       "      <td>40257.43</td>\n",
       "      <td>38171.57</td>\n",
       "      <td>43736.570316</td>\n",
       "      <td>1.669494e+09</td>\n",
       "    </tr>\n",
       "    <tr>\n",
       "      <th>2021-01-09</th>\n",
       "      <td>38800.00</td>\n",
       "      <td>41406.94</td>\n",
       "      <td>40642.15</td>\n",
       "      <td>40257.43</td>\n",
       "      <td>27152.971029</td>\n",
       "      <td>1.093109e+09</td>\n",
       "    </tr>\n",
       "    <tr>\n",
       "      <th>2021-01-08</th>\n",
       "      <td>36565.08</td>\n",
       "      <td>41986.37</td>\n",
       "      <td>39510.55</td>\n",
       "      <td>40665.15</td>\n",
       "      <td>48522.484903</td>\n",
       "      <td>1.973174e+09</td>\n",
       "    </tr>\n",
       "    <tr>\n",
       "      <th>2021-01-07</th>\n",
       "      <td>36200.00</td>\n",
       "      <td>40425.00</td>\n",
       "      <td>36859.26</td>\n",
       "      <td>39505.56</td>\n",
       "      <td>50346.305691</td>\n",
       "      <td>1.988959e+09</td>\n",
       "    </tr>\n",
       "  </tbody>\n",
       "</table>\n",
       "</div>"
      ],
      "text/plain": [
       "                 low      high      open     close        volume      vol_fiat\n",
       "date                                                                          \n",
       "2021-01-11  30100.00  38273.88  38168.89  33224.28  81810.142934  2.718083e+09\n",
       "2021-01-10  34444.00  41452.12  40257.43  38171.57  43736.570316  1.669494e+09\n",
       "2021-01-09  38800.00  41406.94  40642.15  40257.43  27152.971029  1.093109e+09\n",
       "2021-01-08  36565.08  41986.37  39510.55  40665.15  48522.484903  1.973174e+09\n",
       "2021-01-07  36200.00  40425.00  36859.26  39505.56  50346.305691  1.988959e+09"
      ]
     },
     "execution_count": 11,
     "metadata": {},
     "output_type": "execute_result"
    }
   ],
   "source": [
    "btc.head()"
   ]
  },
  {
   "cell_type": "code",
   "execution_count": null,
   "metadata": {},
   "outputs": [],
   "source": []
  }
 ],
 "metadata": {
  "kernelspec": {
   "display_name": "Python 3",
   "language": "python",
   "name": "python3"
  },
  "language_info": {
   "codemirror_mode": {
    "name": "ipython",
    "version": 3
   },
   "file_extension": ".py",
   "mimetype": "text/x-python",
   "name": "python",
   "nbconvert_exporter": "python",
   "pygments_lexer": "ipython3",
   "version": "3.8.5"
  }
 },
 "nbformat": 4,
 "nbformat_minor": 4
}
